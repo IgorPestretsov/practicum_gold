{
 "cells": [
  {
   "cell_type": "markdown",
   "metadata": {
    "toc-hr-collapsed": true
   },
   "source": [
    "## Описание проекта"
   ]
  },
  {
   "cell_type": "markdown",
   "metadata": {},
   "source": [
    "Необходимо подготовить прототип модели машинного обучения для компании «Цифра». Компания разрабатывает решения для эффективной работы промышленных предприятий.\n",
    "\n",
    "Модель должна предсказать коэффициент восстановления золота из золотосодержащей руды. В вашем распоряжении данные с параметрами добычи и очистки.\n",
    "\n",
    "Модель поможет оптимизировать производство, чтобы не запускать предприятие с убыточными характеристиками.\n",
    "\n",
    "Вам нужно:\n",
    "- Подготовить данные;\n",
    "- Провести исследовательский анализ данных;\n",
    "- Построить и обучить модель.\n"
   ]
  },
  {
   "cell_type": "markdown",
   "metadata": {},
   "source": [
    "### Описание данных"
   ]
  },
  {
   "cell_type": "markdown",
   "metadata": {},
   "source": [
    "- Rougher feed — исходное сырье\n",
    "\n",
    "- Rougher additions (или reagent additions) — флотационные реагенты: Xanthate, Sulphate, Depressant\n",
    "\n",
    "  -Xanthate **— ксантогенат (промотер, или активатор флотации);\n",
    "  \n",
    "  -Sulphate — сульфат (на данном производстве сульфид натрия);\n",
    "  \n",
    "  -Depressant — депрессант (силикат натрия).\n",
    "  \n",
    "- Rougher process (англ. «грубый процесс») — флотация\n",
    "\n",
    "- Rougher tails — отвальные хвосты\n",
    "\n",
    "- Float banks — флотационная установка\n",
    "\n",
    "- Cleaner process — очистка\n",
    "\n",
    "- Rougher Au — черновой концентрат золота\n",
    "\n",
    "- Final Au — финальный концентрат золота\n",
    "\n",
    "Параметры этапов\n",
    "\n",
    "- air amount — объём воздуха\n",
    "\n",
    "- fluid levels — уровень жидкости\n",
    "\n",
    "- feed size — размер гранул сырья\n",
    "\n",
    "- feed rate — скорость подачи"
   ]
  },
  {
   "cell_type": "markdown",
   "metadata": {},
   "source": [
    "### Наименование признаков"
   ]
  },
  {
   "cell_type": "markdown",
   "metadata": {},
   "source": [
    "`[этап].[тип_параметра].[название_параметра]`\n",
    "\n",
    "Пример: `rougher.input.feed_ag`\n",
    "\n",
    "Возможные значения для блока [этап]:\n",
    "\n",
    "- rougher — флотация\n",
    "\n",
    "- primary_cleaner — первичная очистка\n",
    "\n",
    "- secondary_cleaner — вторичная очистка\n",
    "\n",
    "- final — финальные характеристики\n",
    "\n",
    "Возможные значения для блока [тип_параметра]:\n",
    "\n",
    "- input — параметры сырья\n",
    "\n",
    "- output — параметры продукта\n",
    "\n",
    "- state — параметры, характеризующие текущее состояние этапа\n",
    "\n",
    "- calculation — расчётные характеристики"
   ]
  },
  {
   "cell_type": "markdown",
   "metadata": {},
   "source": [
    "### План проекта"
   ]
  },
  {
   "cell_type": "markdown",
   "metadata": {},
   "source": [
    "* 1\\. Подготовка даных\n",
    "\n",
    "    * 1.1\\. Открытие и изучение данных.\n",
    "\n",
    "    * 1.2\\. Проверка, что эффективность обогащения рассчитана правильно. Вычисление её на обучающей выборке для признака rougher.output.recovery. Поиск MAE между произведенными расчётами и значением признака. Формулирование выводов.\n",
    "\n",
    "    * 1.3\\. Анализ признаков, недоступных в тестовой выборке. Ответ на вопрос: \"Что это за параметры? К какому типу относятся?\"\n",
    "\n",
    "    * 1.4\\.Предобработка данных.\n",
    "\n",
    "* 2\\. Анализ данных\n",
    "\n",
    "    * 2.1\\. Просмотр, как меняется концентрация металлов (Au, Ag, Pb) на различных этапах очистки. Формулирование выводов.\n",
    "\n",
    "    * 2.2\\. Сравнение распределения размеров гранул сырья на обучающей и тестовой выборках. Если распределения сильно отличаются друг от друга, оценка модели будет неправильной.\n",
    "\n",
    "    * 2.3\\. Исследование суммарной концентрации всех веществ на разных стадиях: в сырье, в черновом и финальном концентратах. Поиск аномальных значений в суммарном распределении. Если они есть, подумать стоит ли их удалять из обеих выборок. Формулирование выводов и удаление аномалий.\n",
    "\n",
    "* 3\\. Построение модели\n",
    "\n",
    "    * 3.1\\.Создание функции для вычисления итоговой sMAPE.\n",
    "\n",
    "    * 3.1\\.Обучение разных моделей и оценка их качества кросс-валидацией. Выбор лучшей модели и проверка её на тестовой выборке. Формулирование выводов."
   ]
  },
  {
   "cell_type": "markdown",
   "metadata": {
    "toc-hr-collapsed": true
   },
   "source": [
    "## Подготовка данных"
   ]
  },
  {
   "cell_type": "markdown",
   "metadata": {},
   "source": [
    "### Открытие и изучение данных"
   ]
  },
  {
   "cell_type": "code",
   "execution_count": 3,
   "metadata": {},
   "outputs": [],
   "source": [
    "import pandas as pd\n",
    "import numpy as np\n",
    "from sklearn.metrics import mean_absolute_error\n",
    "import seaborn as sns \n",
    "from scipy import stats as st\n",
    "from sklearn.tree import DecisionTreeRegressor\n",
    "from sklearn.model_selection import cross_val_score\n",
    "from sklearn.ensemble import RandomForestRegressor\n",
    "from sklearn.metrics.scorer import make_scorer\n",
    "import sklearn \n",
    "from sklearn.linear_model import LinearRegression\n",
    "import matplotlib.pyplot as plt\n",
    "from tqdm.notebook import tqdm, trange"
   ]
  },
  {
   "cell_type": "markdown",
   "metadata": {},
   "source": [
    "#### Обучающая выборка"
   ]
  },
  {
   "cell_type": "code",
   "execution_count": 4,
   "metadata": {},
   "outputs": [],
   "source": [
    "train_data = pd.read_csv('/datasets/gold_recovery_train.csv')"
   ]
  },
  {
   "cell_type": "code",
   "execution_count": 5,
   "metadata": {},
   "outputs": [
    {
     "name": "stdout",
     "output_type": "stream",
     "text": [
      "<class 'pandas.core.frame.DataFrame'>\n",
      "RangeIndex: 16860 entries, 0 to 16859\n",
      "Data columns (total 87 columns):\n",
      " #   Column                                              Non-Null Count  Dtype  \n",
      "---  ------                                              --------------  -----  \n",
      " 0   date                                                16860 non-null  object \n",
      " 1   final.output.concentrate_ag                         16788 non-null  float64\n",
      " 2   final.output.concentrate_pb                         16788 non-null  float64\n",
      " 3   final.output.concentrate_sol                        16490 non-null  float64\n",
      " 4   final.output.concentrate_au                         16789 non-null  float64\n",
      " 5   final.output.recovery                               15339 non-null  float64\n",
      " 6   final.output.tail_ag                                16794 non-null  float64\n",
      " 7   final.output.tail_pb                                16677 non-null  float64\n",
      " 8   final.output.tail_sol                               16715 non-null  float64\n",
      " 9   final.output.tail_au                                16794 non-null  float64\n",
      " 10  primary_cleaner.input.sulfate                       15553 non-null  float64\n",
      " 11  primary_cleaner.input.depressant                    15598 non-null  float64\n",
      " 12  primary_cleaner.input.feed_size                     16860 non-null  float64\n",
      " 13  primary_cleaner.input.xanthate                      15875 non-null  float64\n",
      " 14  primary_cleaner.output.concentrate_ag               16778 non-null  float64\n",
      " 15  primary_cleaner.output.concentrate_pb               16502 non-null  float64\n",
      " 16  primary_cleaner.output.concentrate_sol              16224 non-null  float64\n",
      " 17  primary_cleaner.output.concentrate_au               16778 non-null  float64\n",
      " 18  primary_cleaner.output.tail_ag                      16777 non-null  float64\n",
      " 19  primary_cleaner.output.tail_pb                      16761 non-null  float64\n",
      " 20  primary_cleaner.output.tail_sol                     16579 non-null  float64\n",
      " 21  primary_cleaner.output.tail_au                      16777 non-null  float64\n",
      " 22  primary_cleaner.state.floatbank8_a_air              16820 non-null  float64\n",
      " 23  primary_cleaner.state.floatbank8_a_level            16827 non-null  float64\n",
      " 24  primary_cleaner.state.floatbank8_b_air              16820 non-null  float64\n",
      " 25  primary_cleaner.state.floatbank8_b_level            16833 non-null  float64\n",
      " 26  primary_cleaner.state.floatbank8_c_air              16822 non-null  float64\n",
      " 27  primary_cleaner.state.floatbank8_c_level            16833 non-null  float64\n",
      " 28  primary_cleaner.state.floatbank8_d_air              16821 non-null  float64\n",
      " 29  primary_cleaner.state.floatbank8_d_level            16833 non-null  float64\n",
      " 30  rougher.calculation.sulfate_to_au_concentrate       16833 non-null  float64\n",
      " 31  rougher.calculation.floatbank10_sulfate_to_au_feed  16833 non-null  float64\n",
      " 32  rougher.calculation.floatbank11_sulfate_to_au_feed  16833 non-null  float64\n",
      " 33  rougher.calculation.au_pb_ratio                     15618 non-null  float64\n",
      " 34  rougher.input.feed_ag                               16778 non-null  float64\n",
      " 35  rougher.input.feed_pb                               16632 non-null  float64\n",
      " 36  rougher.input.feed_rate                             16347 non-null  float64\n",
      " 37  rougher.input.feed_size                             16443 non-null  float64\n",
      " 38  rougher.input.feed_sol                              16568 non-null  float64\n",
      " 39  rougher.input.feed_au                               16777 non-null  float64\n",
      " 40  rougher.input.floatbank10_sulfate                   15816 non-null  float64\n",
      " 41  rougher.input.floatbank10_xanthate                  16514 non-null  float64\n",
      " 42  rougher.input.floatbank11_sulfate                   16237 non-null  float64\n",
      " 43  rougher.input.floatbank11_xanthate                  14956 non-null  float64\n",
      " 44  rougher.output.concentrate_ag                       16778 non-null  float64\n",
      " 45  rougher.output.concentrate_pb                       16778 non-null  float64\n",
      " 46  rougher.output.concentrate_sol                      16698 non-null  float64\n",
      " 47  rougher.output.concentrate_au                       16778 non-null  float64\n",
      " 48  rougher.output.recovery                             14287 non-null  float64\n",
      " 49  rougher.output.tail_ag                              14610 non-null  float64\n",
      " 50  rougher.output.tail_pb                              16778 non-null  float64\n",
      " 51  rougher.output.tail_sol                             14611 non-null  float64\n",
      " 52  rougher.output.tail_au                              14611 non-null  float64\n",
      " 53  rougher.state.floatbank10_a_air                     16807 non-null  float64\n",
      " 54  rougher.state.floatbank10_a_level                   16807 non-null  float64\n",
      " 55  rougher.state.floatbank10_b_air                     16807 non-null  float64\n",
      " 56  rougher.state.floatbank10_b_level                   16807 non-null  float64\n",
      " 57  rougher.state.floatbank10_c_air                     16807 non-null  float64\n",
      " 58  rougher.state.floatbank10_c_level                   16814 non-null  float64\n",
      " 59  rougher.state.floatbank10_d_air                     16802 non-null  float64\n",
      " 60  rougher.state.floatbank10_d_level                   16809 non-null  float64\n",
      " 61  rougher.state.floatbank10_e_air                     16257 non-null  float64\n",
      " 62  rougher.state.floatbank10_e_level                   16809 non-null  float64\n",
      " 63  rougher.state.floatbank10_f_air                     16802 non-null  float64\n",
      " 64  rougher.state.floatbank10_f_level                   16802 non-null  float64\n",
      " 65  secondary_cleaner.output.tail_ag                    16776 non-null  float64\n",
      " 66  secondary_cleaner.output.tail_pb                    16764 non-null  float64\n",
      " 67  secondary_cleaner.output.tail_sol                   14874 non-null  float64\n",
      " 68  secondary_cleaner.output.tail_au                    16778 non-null  float64\n",
      " 69  secondary_cleaner.state.floatbank2_a_air            16497 non-null  float64\n",
      " 70  secondary_cleaner.state.floatbank2_a_level          16751 non-null  float64\n",
      " 71  secondary_cleaner.state.floatbank2_b_air            16705 non-null  float64\n",
      " 72  secondary_cleaner.state.floatbank2_b_level          16748 non-null  float64\n",
      " 73  secondary_cleaner.state.floatbank3_a_air            16763 non-null  float64\n",
      " 74  secondary_cleaner.state.floatbank3_a_level          16747 non-null  float64\n",
      " 75  secondary_cleaner.state.floatbank3_b_air            16752 non-null  float64\n",
      " 76  secondary_cleaner.state.floatbank3_b_level          16750 non-null  float64\n",
      " 77  secondary_cleaner.state.floatbank4_a_air            16731 non-null  float64\n",
      " 78  secondary_cleaner.state.floatbank4_a_level          16747 non-null  float64\n",
      " 79  secondary_cleaner.state.floatbank4_b_air            16768 non-null  float64\n",
      " 80  secondary_cleaner.state.floatbank4_b_level          16767 non-null  float64\n",
      " 81  secondary_cleaner.state.floatbank5_a_air            16775 non-null  float64\n",
      " 82  secondary_cleaner.state.floatbank5_a_level          16775 non-null  float64\n",
      " 83  secondary_cleaner.state.floatbank5_b_air            16775 non-null  float64\n",
      " 84  secondary_cleaner.state.floatbank5_b_level          16776 non-null  float64\n",
      " 85  secondary_cleaner.state.floatbank6_a_air            16757 non-null  float64\n",
      " 86  secondary_cleaner.state.floatbank6_a_level          16775 non-null  float64\n",
      "dtypes: float64(86), object(1)\n",
      "memory usage: 11.2+ MB\n"
     ]
    }
   ],
   "source": [
    "train_data.info()"
   ]
  },
  {
   "cell_type": "markdown",
   "metadata": {},
   "source": [
    "#### Тестовая выборка"
   ]
  },
  {
   "cell_type": "code",
   "execution_count": 6,
   "metadata": {},
   "outputs": [],
   "source": [
    "test_data = pd.read_csv('/datasets/gold_recovery_test.csv')"
   ]
  },
  {
   "cell_type": "code",
   "execution_count": 7,
   "metadata": {},
   "outputs": [
    {
     "name": "stdout",
     "output_type": "stream",
     "text": [
      "<class 'pandas.core.frame.DataFrame'>\n",
      "RangeIndex: 5856 entries, 0 to 5855\n",
      "Data columns (total 53 columns):\n",
      " #   Column                                      Non-Null Count  Dtype  \n",
      "---  ------                                      --------------  -----  \n",
      " 0   date                                        5856 non-null   object \n",
      " 1   primary_cleaner.input.sulfate               5554 non-null   float64\n",
      " 2   primary_cleaner.input.depressant            5572 non-null   float64\n",
      " 3   primary_cleaner.input.feed_size             5856 non-null   float64\n",
      " 4   primary_cleaner.input.xanthate              5690 non-null   float64\n",
      " 5   primary_cleaner.state.floatbank8_a_air      5840 non-null   float64\n",
      " 6   primary_cleaner.state.floatbank8_a_level    5840 non-null   float64\n",
      " 7   primary_cleaner.state.floatbank8_b_air      5840 non-null   float64\n",
      " 8   primary_cleaner.state.floatbank8_b_level    5840 non-null   float64\n",
      " 9   primary_cleaner.state.floatbank8_c_air      5840 non-null   float64\n",
      " 10  primary_cleaner.state.floatbank8_c_level    5840 non-null   float64\n",
      " 11  primary_cleaner.state.floatbank8_d_air      5840 non-null   float64\n",
      " 12  primary_cleaner.state.floatbank8_d_level    5840 non-null   float64\n",
      " 13  rougher.input.feed_ag                       5840 non-null   float64\n",
      " 14  rougher.input.feed_pb                       5840 non-null   float64\n",
      " 15  rougher.input.feed_rate                     5816 non-null   float64\n",
      " 16  rougher.input.feed_size                     5834 non-null   float64\n",
      " 17  rougher.input.feed_sol                      5789 non-null   float64\n",
      " 18  rougher.input.feed_au                       5840 non-null   float64\n",
      " 19  rougher.input.floatbank10_sulfate           5599 non-null   float64\n",
      " 20  rougher.input.floatbank10_xanthate          5733 non-null   float64\n",
      " 21  rougher.input.floatbank11_sulfate           5801 non-null   float64\n",
      " 22  rougher.input.floatbank11_xanthate          5503 non-null   float64\n",
      " 23  rougher.state.floatbank10_a_air             5839 non-null   float64\n",
      " 24  rougher.state.floatbank10_a_level           5840 non-null   float64\n",
      " 25  rougher.state.floatbank10_b_air             5839 non-null   float64\n",
      " 26  rougher.state.floatbank10_b_level           5840 non-null   float64\n",
      " 27  rougher.state.floatbank10_c_air             5839 non-null   float64\n",
      " 28  rougher.state.floatbank10_c_level           5840 non-null   float64\n",
      " 29  rougher.state.floatbank10_d_air             5839 non-null   float64\n",
      " 30  rougher.state.floatbank10_d_level           5840 non-null   float64\n",
      " 31  rougher.state.floatbank10_e_air             5839 non-null   float64\n",
      " 32  rougher.state.floatbank10_e_level           5840 non-null   float64\n",
      " 33  rougher.state.floatbank10_f_air             5839 non-null   float64\n",
      " 34  rougher.state.floatbank10_f_level           5840 non-null   float64\n",
      " 35  secondary_cleaner.state.floatbank2_a_air    5836 non-null   float64\n",
      " 36  secondary_cleaner.state.floatbank2_a_level  5840 non-null   float64\n",
      " 37  secondary_cleaner.state.floatbank2_b_air    5833 non-null   float64\n",
      " 38  secondary_cleaner.state.floatbank2_b_level  5840 non-null   float64\n",
      " 39  secondary_cleaner.state.floatbank3_a_air    5822 non-null   float64\n",
      " 40  secondary_cleaner.state.floatbank3_a_level  5840 non-null   float64\n",
      " 41  secondary_cleaner.state.floatbank3_b_air    5840 non-null   float64\n",
      " 42  secondary_cleaner.state.floatbank3_b_level  5840 non-null   float64\n",
      " 43  secondary_cleaner.state.floatbank4_a_air    5840 non-null   float64\n",
      " 44  secondary_cleaner.state.floatbank4_a_level  5840 non-null   float64\n",
      " 45  secondary_cleaner.state.floatbank4_b_air    5840 non-null   float64\n",
      " 46  secondary_cleaner.state.floatbank4_b_level  5840 non-null   float64\n",
      " 47  secondary_cleaner.state.floatbank5_a_air    5840 non-null   float64\n",
      " 48  secondary_cleaner.state.floatbank5_a_level  5840 non-null   float64\n",
      " 49  secondary_cleaner.state.floatbank5_b_air    5840 non-null   float64\n",
      " 50  secondary_cleaner.state.floatbank5_b_level  5840 non-null   float64\n",
      " 51  secondary_cleaner.state.floatbank6_a_air    5840 non-null   float64\n",
      " 52  secondary_cleaner.state.floatbank6_a_level  5840 non-null   float64\n",
      "dtypes: float64(52), object(1)\n",
      "memory usage: 2.4+ MB\n"
     ]
    }
   ],
   "source": [
    "test_data.info()"
   ]
  },
  {
   "cell_type": "markdown",
   "metadata": {},
   "source": [
    "#### Исходная выборка"
   ]
  },
  {
   "cell_type": "code",
   "execution_count": 8,
   "metadata": {},
   "outputs": [],
   "source": [
    "full_data = pd.read_csv('/datasets/gold_recovery_full.csv')"
   ]
  },
  {
   "cell_type": "code",
   "execution_count": 9,
   "metadata": {},
   "outputs": [
    {
     "name": "stdout",
     "output_type": "stream",
     "text": [
      "<class 'pandas.core.frame.DataFrame'>\n",
      "RangeIndex: 22716 entries, 0 to 22715\n",
      "Data columns (total 87 columns):\n",
      " #   Column                                              Non-Null Count  Dtype  \n",
      "---  ------                                              --------------  -----  \n",
      " 0   date                                                22716 non-null  object \n",
      " 1   final.output.concentrate_ag                         22627 non-null  float64\n",
      " 2   final.output.concentrate_pb                         22629 non-null  float64\n",
      " 3   final.output.concentrate_sol                        22331 non-null  float64\n",
      " 4   final.output.concentrate_au                         22630 non-null  float64\n",
      " 5   final.output.recovery                               20753 non-null  float64\n",
      " 6   final.output.tail_ag                                22633 non-null  float64\n",
      " 7   final.output.tail_pb                                22516 non-null  float64\n",
      " 8   final.output.tail_sol                               22445 non-null  float64\n",
      " 9   final.output.tail_au                                22635 non-null  float64\n",
      " 10  primary_cleaner.input.sulfate                       21107 non-null  float64\n",
      " 11  primary_cleaner.input.depressant                    21170 non-null  float64\n",
      " 12  primary_cleaner.input.feed_size                     22716 non-null  float64\n",
      " 13  primary_cleaner.input.xanthate                      21565 non-null  float64\n",
      " 14  primary_cleaner.output.concentrate_ag               22618 non-null  float64\n",
      " 15  primary_cleaner.output.concentrate_pb               22268 non-null  float64\n",
      " 16  primary_cleaner.output.concentrate_sol              21918 non-null  float64\n",
      " 17  primary_cleaner.output.concentrate_au               22618 non-null  float64\n",
      " 18  primary_cleaner.output.tail_ag                      22614 non-null  float64\n",
      " 19  primary_cleaner.output.tail_pb                      22594 non-null  float64\n",
      " 20  primary_cleaner.output.tail_sol                     22365 non-null  float64\n",
      " 21  primary_cleaner.output.tail_au                      22617 non-null  float64\n",
      " 22  primary_cleaner.state.floatbank8_a_air              22660 non-null  float64\n",
      " 23  primary_cleaner.state.floatbank8_a_level            22667 non-null  float64\n",
      " 24  primary_cleaner.state.floatbank8_b_air              22660 non-null  float64\n",
      " 25  primary_cleaner.state.floatbank8_b_level            22673 non-null  float64\n",
      " 26  primary_cleaner.state.floatbank8_c_air              22662 non-null  float64\n",
      " 27  primary_cleaner.state.floatbank8_c_level            22673 non-null  float64\n",
      " 28  primary_cleaner.state.floatbank8_d_air              22661 non-null  float64\n",
      " 29  primary_cleaner.state.floatbank8_d_level            22673 non-null  float64\n",
      " 30  rougher.calculation.sulfate_to_au_concentrate       22672 non-null  float64\n",
      " 31  rougher.calculation.floatbank10_sulfate_to_au_feed  22672 non-null  float64\n",
      " 32  rougher.calculation.floatbank11_sulfate_to_au_feed  22672 non-null  float64\n",
      " 33  rougher.calculation.au_pb_ratio                     21089 non-null  float64\n",
      " 34  rougher.input.feed_ag                               22618 non-null  float64\n",
      " 35  rougher.input.feed_pb                               22472 non-null  float64\n",
      " 36  rougher.input.feed_rate                             22163 non-null  float64\n",
      " 37  rougher.input.feed_size                             22277 non-null  float64\n",
      " 38  rougher.input.feed_sol                              22357 non-null  float64\n",
      " 39  rougher.input.feed_au                               22617 non-null  float64\n",
      " 40  rougher.input.floatbank10_sulfate                   21415 non-null  float64\n",
      " 41  rougher.input.floatbank10_xanthate                  22247 non-null  float64\n",
      " 42  rougher.input.floatbank11_sulfate                   22038 non-null  float64\n",
      " 43  rougher.input.floatbank11_xanthate                  20459 non-null  float64\n",
      " 44  rougher.output.concentrate_ag                       22618 non-null  float64\n",
      " 45  rougher.output.concentrate_pb                       22618 non-null  float64\n",
      " 46  rougher.output.concentrate_sol                      22526 non-null  float64\n",
      " 47  rougher.output.concentrate_au                       22618 non-null  float64\n",
      " 48  rougher.output.recovery                             19597 non-null  float64\n",
      " 49  rougher.output.tail_ag                              19979 non-null  float64\n",
      " 50  rougher.output.tail_pb                              22618 non-null  float64\n",
      " 51  rougher.output.tail_sol                             19980 non-null  float64\n",
      " 52  rougher.output.tail_au                              19980 non-null  float64\n",
      " 53  rougher.state.floatbank10_a_air                     22646 non-null  float64\n",
      " 54  rougher.state.floatbank10_a_level                   22647 non-null  float64\n",
      " 55  rougher.state.floatbank10_b_air                     22646 non-null  float64\n",
      " 56  rougher.state.floatbank10_b_level                   22647 non-null  float64\n",
      " 57  rougher.state.floatbank10_c_air                     22646 non-null  float64\n",
      " 58  rougher.state.floatbank10_c_level                   22654 non-null  float64\n",
      " 59  rougher.state.floatbank10_d_air                     22641 non-null  float64\n",
      " 60  rougher.state.floatbank10_d_level                   22649 non-null  float64\n",
      " 61  rougher.state.floatbank10_e_air                     22096 non-null  float64\n",
      " 62  rougher.state.floatbank10_e_level                   22649 non-null  float64\n",
      " 63  rougher.state.floatbank10_f_air                     22641 non-null  float64\n",
      " 64  rougher.state.floatbank10_f_level                   22642 non-null  float64\n",
      " 65  secondary_cleaner.output.tail_ag                    22616 non-null  float64\n",
      " 66  secondary_cleaner.output.tail_pb                    22600 non-null  float64\n",
      " 67  secondary_cleaner.output.tail_sol                   20501 non-null  float64\n",
      " 68  secondary_cleaner.output.tail_au                    22618 non-null  float64\n",
      " 69  secondary_cleaner.state.floatbank2_a_air            22333 non-null  float64\n",
      " 70  secondary_cleaner.state.floatbank2_a_level          22591 non-null  float64\n",
      " 71  secondary_cleaner.state.floatbank2_b_air            22538 non-null  float64\n",
      " 72  secondary_cleaner.state.floatbank2_b_level          22588 non-null  float64\n",
      " 73  secondary_cleaner.state.floatbank3_a_air            22585 non-null  float64\n",
      " 74  secondary_cleaner.state.floatbank3_a_level          22587 non-null  float64\n",
      " 75  secondary_cleaner.state.floatbank3_b_air            22592 non-null  float64\n",
      " 76  secondary_cleaner.state.floatbank3_b_level          22590 non-null  float64\n",
      " 77  secondary_cleaner.state.floatbank4_a_air            22571 non-null  float64\n",
      " 78  secondary_cleaner.state.floatbank4_a_level          22587 non-null  float64\n",
      " 79  secondary_cleaner.state.floatbank4_b_air            22608 non-null  float64\n",
      " 80  secondary_cleaner.state.floatbank4_b_level          22607 non-null  float64\n",
      " 81  secondary_cleaner.state.floatbank5_a_air            22615 non-null  float64\n",
      " 82  secondary_cleaner.state.floatbank5_a_level          22615 non-null  float64\n",
      " 83  secondary_cleaner.state.floatbank5_b_air            22615 non-null  float64\n",
      " 84  secondary_cleaner.state.floatbank5_b_level          22616 non-null  float64\n",
      " 85  secondary_cleaner.state.floatbank6_a_air            22597 non-null  float64\n",
      " 86  secondary_cleaner.state.floatbank6_a_level          22615 non-null  float64\n",
      "dtypes: float64(86), object(1)\n",
      "memory usage: 15.1+ MB\n"
     ]
    }
   ],
   "source": [
    "full_data.info()"
   ]
  },
  {
   "cell_type": "markdown",
   "metadata": {},
   "source": [
    "### Проверка правильности расчета эффективности обогащения"
   ]
  },
  {
   "cell_type": "code",
   "execution_count": 10,
   "metadata": {
    "scrolled": true
   },
   "outputs": [
    {
     "data": {
      "text/plain": [
       "['rougher.calculation.sulfate_to_au_concentrate',\n",
       " 'rougher.calculation.floatbank10_sulfate_to_au_feed',\n",
       " 'rougher.calculation.floatbank11_sulfate_to_au_feed',\n",
       " 'rougher.calculation.au_pb_ratio',\n",
       " 'rougher.input.feed_ag',\n",
       " 'rougher.input.feed_pb',\n",
       " 'rougher.input.feed_rate',\n",
       " 'rougher.input.feed_size',\n",
       " 'rougher.input.feed_sol',\n",
       " 'rougher.input.feed_au',\n",
       " 'rougher.input.floatbank10_sulfate',\n",
       " 'rougher.input.floatbank10_xanthate',\n",
       " 'rougher.input.floatbank11_sulfate',\n",
       " 'rougher.input.floatbank11_xanthate',\n",
       " 'rougher.output.concentrate_ag',\n",
       " 'rougher.output.concentrate_pb',\n",
       " 'rougher.output.concentrate_sol',\n",
       " 'rougher.output.concentrate_au',\n",
       " 'rougher.output.recovery',\n",
       " 'rougher.output.tail_ag',\n",
       " 'rougher.output.tail_pb',\n",
       " 'rougher.output.tail_sol',\n",
       " 'rougher.output.tail_au',\n",
       " 'rougher.state.floatbank10_a_air',\n",
       " 'rougher.state.floatbank10_a_level',\n",
       " 'rougher.state.floatbank10_b_air',\n",
       " 'rougher.state.floatbank10_b_level',\n",
       " 'rougher.state.floatbank10_c_air',\n",
       " 'rougher.state.floatbank10_c_level',\n",
       " 'rougher.state.floatbank10_d_air',\n",
       " 'rougher.state.floatbank10_d_level',\n",
       " 'rougher.state.floatbank10_e_air',\n",
       " 'rougher.state.floatbank10_e_level',\n",
       " 'rougher.state.floatbank10_f_air',\n",
       " 'rougher.state.floatbank10_f_level']"
      ]
     },
     "execution_count": 10,
     "metadata": {},
     "output_type": "execute_result"
    }
   ],
   "source": [
    "[clmn for clmn in train_data.columns if 'rougher' in clmn]"
   ]
  },
  {
   "cell_type": "markdown",
   "metadata": {},
   "source": [
    "Напишем функцию для расчета эффективности обогащения"
   ]
  },
  {
   "cell_type": "code",
   "execution_count": 11,
   "metadata": {},
   "outputs": [
    {
     "data": {
      "text/plain": [
       "Index(['date', 'final.output.concentrate_ag', 'final.output.concentrate_pb',\n",
       "       'final.output.concentrate_sol', 'final.output.concentrate_au',\n",
       "       'final.output.recovery', 'final.output.tail_ag', 'final.output.tail_pb',\n",
       "       'final.output.tail_sol', 'final.output.tail_au',\n",
       "       'primary_cleaner.input.sulfate', 'primary_cleaner.input.depressant',\n",
       "       'primary_cleaner.input.feed_size', 'primary_cleaner.input.xanthate',\n",
       "       'primary_cleaner.output.concentrate_ag',\n",
       "       'primary_cleaner.output.concentrate_pb',\n",
       "       'primary_cleaner.output.concentrate_sol',\n",
       "       'primary_cleaner.output.concentrate_au',\n",
       "       'primary_cleaner.output.tail_ag', 'primary_cleaner.output.tail_pb',\n",
       "       'primary_cleaner.output.tail_sol', 'primary_cleaner.output.tail_au',\n",
       "       'primary_cleaner.state.floatbank8_a_air',\n",
       "       'primary_cleaner.state.floatbank8_a_level',\n",
       "       'primary_cleaner.state.floatbank8_b_air',\n",
       "       'primary_cleaner.state.floatbank8_b_level',\n",
       "       'primary_cleaner.state.floatbank8_c_air',\n",
       "       'primary_cleaner.state.floatbank8_c_level',\n",
       "       'primary_cleaner.state.floatbank8_d_air',\n",
       "       'primary_cleaner.state.floatbank8_d_level',\n",
       "       'rougher.calculation.sulfate_to_au_concentrate',\n",
       "       'rougher.calculation.floatbank10_sulfate_to_au_feed',\n",
       "       'rougher.calculation.floatbank11_sulfate_to_au_feed',\n",
       "       'rougher.calculation.au_pb_ratio', 'rougher.input.feed_ag',\n",
       "       'rougher.input.feed_pb', 'rougher.input.feed_rate',\n",
       "       'rougher.input.feed_size', 'rougher.input.feed_sol',\n",
       "       'rougher.input.feed_au', 'rougher.input.floatbank10_sulfate',\n",
       "       'rougher.input.floatbank10_xanthate',\n",
       "       'rougher.input.floatbank11_sulfate',\n",
       "       'rougher.input.floatbank11_xanthate', 'rougher.output.concentrate_ag',\n",
       "       'rougher.output.concentrate_pb', 'rougher.output.concentrate_sol',\n",
       "       'rougher.output.concentrate_au', 'rougher.output.recovery',\n",
       "       'rougher.output.tail_ag', 'rougher.output.tail_pb',\n",
       "       'rougher.output.tail_sol', 'rougher.output.tail_au',\n",
       "       'rougher.state.floatbank10_a_air', 'rougher.state.floatbank10_a_level',\n",
       "       'rougher.state.floatbank10_b_air', 'rougher.state.floatbank10_b_level',\n",
       "       'rougher.state.floatbank10_c_air', 'rougher.state.floatbank10_c_level',\n",
       "       'rougher.state.floatbank10_d_air', 'rougher.state.floatbank10_d_level',\n",
       "       'rougher.state.floatbank10_e_air', 'rougher.state.floatbank10_e_level',\n",
       "       'rougher.state.floatbank10_f_air', 'rougher.state.floatbank10_f_level',\n",
       "       'secondary_cleaner.output.tail_ag', 'secondary_cleaner.output.tail_pb',\n",
       "       'secondary_cleaner.output.tail_sol', 'secondary_cleaner.output.tail_au',\n",
       "       'secondary_cleaner.state.floatbank2_a_air',\n",
       "       'secondary_cleaner.state.floatbank2_a_level',\n",
       "       'secondary_cleaner.state.floatbank2_b_air',\n",
       "       'secondary_cleaner.state.floatbank2_b_level',\n",
       "       'secondary_cleaner.state.floatbank3_a_air',\n",
       "       'secondary_cleaner.state.floatbank3_a_level',\n",
       "       'secondary_cleaner.state.floatbank3_b_air',\n",
       "       'secondary_cleaner.state.floatbank3_b_level',\n",
       "       'secondary_cleaner.state.floatbank4_a_air',\n",
       "       'secondary_cleaner.state.floatbank4_a_level',\n",
       "       'secondary_cleaner.state.floatbank4_b_air',\n",
       "       'secondary_cleaner.state.floatbank4_b_level',\n",
       "       'secondary_cleaner.state.floatbank5_a_air',\n",
       "       'secondary_cleaner.state.floatbank5_a_level',\n",
       "       'secondary_cleaner.state.floatbank5_b_air',\n",
       "       'secondary_cleaner.state.floatbank5_b_level',\n",
       "       'secondary_cleaner.state.floatbank6_a_air',\n",
       "       'secondary_cleaner.state.floatbank6_a_level'],\n",
       "      dtype='object')"
      ]
     },
     "execution_count": 11,
     "metadata": {},
     "output_type": "execute_result"
    }
   ],
   "source": [
    "train_data.columns"
   ]
  },
  {
   "cell_type": "code",
   "execution_count": 12,
   "metadata": {},
   "outputs": [
    {
     "data": {
      "text/plain": [
       "Index(['date', 'final.output.concentrate_ag', 'final.output.concentrate_pb',\n",
       "       'final.output.concentrate_sol', 'final.output.concentrate_au',\n",
       "       'final.output.recovery', 'final.output.tail_ag', 'final.output.tail_pb',\n",
       "       'final.output.tail_sol', 'final.output.tail_au',\n",
       "       'primary_cleaner.input.sulfate', 'primary_cleaner.input.depressant',\n",
       "       'primary_cleaner.input.feed_size', 'primary_cleaner.input.xanthate',\n",
       "       'primary_cleaner.output.concentrate_ag',\n",
       "       'primary_cleaner.output.concentrate_pb',\n",
       "       'primary_cleaner.output.concentrate_sol',\n",
       "       'primary_cleaner.output.concentrate_au',\n",
       "       'primary_cleaner.output.tail_ag', 'primary_cleaner.output.tail_pb',\n",
       "       'primary_cleaner.output.tail_sol', 'primary_cleaner.output.tail_au',\n",
       "       'primary_cleaner.state.floatbank8_a_air',\n",
       "       'primary_cleaner.state.floatbank8_a_level',\n",
       "       'primary_cleaner.state.floatbank8_b_air',\n",
       "       'primary_cleaner.state.floatbank8_b_level',\n",
       "       'primary_cleaner.state.floatbank8_c_air',\n",
       "       'primary_cleaner.state.floatbank8_c_level',\n",
       "       'primary_cleaner.state.floatbank8_d_air',\n",
       "       'primary_cleaner.state.floatbank8_d_level',\n",
       "       'rougher.calculation.sulfate_to_au_concentrate',\n",
       "       'rougher.calculation.floatbank10_sulfate_to_au_feed',\n",
       "       'rougher.calculation.floatbank11_sulfate_to_au_feed',\n",
       "       'rougher.calculation.au_pb_ratio', 'rougher.input.feed_ag',\n",
       "       'rougher.input.feed_pb', 'rougher.input.feed_rate',\n",
       "       'rougher.input.feed_size', 'rougher.input.feed_sol',\n",
       "       'rougher.input.feed_au', 'rougher.input.floatbank10_sulfate',\n",
       "       'rougher.input.floatbank10_xanthate',\n",
       "       'rougher.input.floatbank11_sulfate',\n",
       "       'rougher.input.floatbank11_xanthate', 'rougher.output.concentrate_ag',\n",
       "       'rougher.output.concentrate_pb', 'rougher.output.concentrate_sol',\n",
       "       'rougher.output.concentrate_au', 'rougher.output.recovery',\n",
       "       'rougher.output.tail_ag', 'rougher.output.tail_pb',\n",
       "       'rougher.output.tail_sol', 'rougher.output.tail_au',\n",
       "       'rougher.state.floatbank10_a_air', 'rougher.state.floatbank10_a_level',\n",
       "       'rougher.state.floatbank10_b_air', 'rougher.state.floatbank10_b_level',\n",
       "       'rougher.state.floatbank10_c_air', 'rougher.state.floatbank10_c_level',\n",
       "       'rougher.state.floatbank10_d_air', 'rougher.state.floatbank10_d_level',\n",
       "       'rougher.state.floatbank10_e_air', 'rougher.state.floatbank10_e_level',\n",
       "       'rougher.state.floatbank10_f_air', 'rougher.state.floatbank10_f_level',\n",
       "       'secondary_cleaner.output.tail_ag', 'secondary_cleaner.output.tail_pb',\n",
       "       'secondary_cleaner.output.tail_sol', 'secondary_cleaner.output.tail_au',\n",
       "       'secondary_cleaner.state.floatbank2_a_air',\n",
       "       'secondary_cleaner.state.floatbank2_a_level',\n",
       "       'secondary_cleaner.state.floatbank2_b_air',\n",
       "       'secondary_cleaner.state.floatbank2_b_level',\n",
       "       'secondary_cleaner.state.floatbank3_a_air',\n",
       "       'secondary_cleaner.state.floatbank3_a_level',\n",
       "       'secondary_cleaner.state.floatbank3_b_air',\n",
       "       'secondary_cleaner.state.floatbank3_b_level',\n",
       "       'secondary_cleaner.state.floatbank4_a_air',\n",
       "       'secondary_cleaner.state.floatbank4_a_level',\n",
       "       'secondary_cleaner.state.floatbank4_b_air',\n",
       "       'secondary_cleaner.state.floatbank4_b_level',\n",
       "       'secondary_cleaner.state.floatbank5_a_air',\n",
       "       'secondary_cleaner.state.floatbank5_a_level',\n",
       "       'secondary_cleaner.state.floatbank5_b_air',\n",
       "       'secondary_cleaner.state.floatbank5_b_level',\n",
       "       'secondary_cleaner.state.floatbank6_a_air',\n",
       "       'secondary_cleaner.state.floatbank6_a_level'],\n",
       "      dtype='object')"
      ]
     },
     "execution_count": 12,
     "metadata": {},
     "output_type": "execute_result"
    }
   ],
   "source": [
    "full_data.columns"
   ]
  },
  {
   "cell_type": "code",
   "execution_count": 13,
   "metadata": {},
   "outputs": [],
   "source": [
    "def calc_recovery(row):\n",
    "    cols = ['rougher.output.concentrate_au','rougher.output.concentrate_ag',\\\n",
    "           'rougher.output.concentrate_pb','rougher.output.concentrate_sol','rougher.input.feed_au']\n",
    "    #Проверка на нулевые значения\n",
    "    for col in cols:\n",
    "        if row[col] == 0:\n",
    "            return 0\n",
    "    #доля золота в концентрате после флотации/очистки\n",
    "    C = row['rougher.output.concentrate_au']\n",
    "                                              \n",
    "    #доля золота в сырье/концентрате до флотации/очистки\n",
    "    F = row['rougher.input.feed_au']\n",
    "    T = row['rougher.output.tail_au']\n",
    "    return ((C*(F-T))/(F*(C-T)))*100"
   ]
  },
  {
   "cell_type": "code",
   "execution_count": 14,
   "metadata": {},
   "outputs": [],
   "source": [
    "train_data['rougher.output.recovery_check'] = train_data.apply(calc_recovery,axis=1)"
   ]
  },
  {
   "cell_type": "code",
   "execution_count": 15,
   "metadata": {},
   "outputs": [
    {
     "data": {
      "text/html": [
       "<div>\n",
       "<style scoped>\n",
       "    .dataframe tbody tr th:only-of-type {\n",
       "        vertical-align: middle;\n",
       "    }\n",
       "\n",
       "    .dataframe tbody tr th {\n",
       "        vertical-align: top;\n",
       "    }\n",
       "\n",
       "    .dataframe thead th {\n",
       "        text-align: right;\n",
       "    }\n",
       "</style>\n",
       "<table border=\"1\" class=\"dataframe\">\n",
       "  <thead>\n",
       "    <tr style=\"text-align: right;\">\n",
       "      <th></th>\n",
       "      <th>rougher.output.recovery_check</th>\n",
       "      <th>rougher.output.recovery</th>\n",
       "    </tr>\n",
       "  </thead>\n",
       "  <tbody>\n",
       "    <tr>\n",
       "      <th>0</th>\n",
       "      <td>87.107763</td>\n",
       "      <td>87.107763</td>\n",
       "    </tr>\n",
       "    <tr>\n",
       "      <th>1</th>\n",
       "      <td>86.843261</td>\n",
       "      <td>86.843261</td>\n",
       "    </tr>\n",
       "    <tr>\n",
       "      <th>2</th>\n",
       "      <td>86.842308</td>\n",
       "      <td>86.842308</td>\n",
       "    </tr>\n",
       "    <tr>\n",
       "      <th>3</th>\n",
       "      <td>87.226430</td>\n",
       "      <td>87.226430</td>\n",
       "    </tr>\n",
       "    <tr>\n",
       "      <th>4</th>\n",
       "      <td>86.688794</td>\n",
       "      <td>86.688794</td>\n",
       "    </tr>\n",
       "    <tr>\n",
       "      <th>...</th>\n",
       "      <td>...</td>\n",
       "      <td>...</td>\n",
       "    </tr>\n",
       "    <tr>\n",
       "      <th>16855</th>\n",
       "      <td>89.574376</td>\n",
       "      <td>89.574376</td>\n",
       "    </tr>\n",
       "    <tr>\n",
       "      <th>16856</th>\n",
       "      <td>87.724007</td>\n",
       "      <td>87.724007</td>\n",
       "    </tr>\n",
       "    <tr>\n",
       "      <th>16857</th>\n",
       "      <td>88.890579</td>\n",
       "      <td>88.890579</td>\n",
       "    </tr>\n",
       "    <tr>\n",
       "      <th>16858</th>\n",
       "      <td>89.858126</td>\n",
       "      <td>89.858126</td>\n",
       "    </tr>\n",
       "    <tr>\n",
       "      <th>16859</th>\n",
       "      <td>89.514960</td>\n",
       "      <td>89.514960</td>\n",
       "    </tr>\n",
       "  </tbody>\n",
       "</table>\n",
       "<p>16860 rows × 2 columns</p>\n",
       "</div>"
      ],
      "text/plain": [
       "       rougher.output.recovery_check  rougher.output.recovery\n",
       "0                          87.107763                87.107763\n",
       "1                          86.843261                86.843261\n",
       "2                          86.842308                86.842308\n",
       "3                          87.226430                87.226430\n",
       "4                          86.688794                86.688794\n",
       "...                              ...                      ...\n",
       "16855                      89.574376                89.574376\n",
       "16856                      87.724007                87.724007\n",
       "16857                      88.890579                88.890579\n",
       "16858                      89.858126                89.858126\n",
       "16859                      89.514960                89.514960\n",
       "\n",
       "[16860 rows x 2 columns]"
      ]
     },
     "execution_count": 15,
     "metadata": {},
     "output_type": "execute_result"
    }
   ],
   "source": [
    "train_data[['rougher.output.recovery_check','rougher.output.recovery']]"
   ]
  },
  {
   "cell_type": "markdown",
   "metadata": {},
   "source": [
    "Найдем МАЕ"
   ]
  },
  {
   "cell_type": "code",
   "execution_count": 16,
   "metadata": {},
   "outputs": [],
   "source": [
    "train_data_for_MAE = train_data[['rougher.output.recovery','rougher.output.recovery_check']].dropna()"
   ]
  },
  {
   "cell_type": "code",
   "execution_count": 17,
   "metadata": {
    "scrolled": true
   },
   "outputs": [],
   "source": [
    "mae = mean_absolute_error(train_data_for_MAE['rougher.output.recovery'],train_data_for_MAE['rougher.output.recovery_check'])"
   ]
  },
  {
   "cell_type": "code",
   "execution_count": 18,
   "metadata": {},
   "outputs": [
    {
     "name": "stdout",
     "output_type": "stream",
     "text": [
      "0.00\n"
     ]
    }
   ],
   "source": [
    "print(f'{mae:.2f}')"
   ]
  },
  {
   "cell_type": "markdown",
   "metadata": {},
   "source": [
    "Вывод: Ошибки нет"
   ]
  },
  {
   "cell_type": "markdown",
   "metadata": {},
   "source": [
    "### Анализ признаков недоступных в тестовой выборке"
   ]
  },
  {
   "cell_type": "markdown",
   "metadata": {},
   "source": [
    "Найдем каких признаков нет в тестовой выборке, но есть в тренировочной"
   ]
  },
  {
   "cell_type": "code",
   "execution_count": 19,
   "metadata": {},
   "outputs": [
    {
     "data": {
      "text/plain": [
       "['final.output.concentrate_ag',\n",
       " 'final.output.concentrate_pb',\n",
       " 'final.output.concentrate_sol',\n",
       " 'final.output.concentrate_au',\n",
       " 'final.output.recovery',\n",
       " 'final.output.tail_ag',\n",
       " 'final.output.tail_pb',\n",
       " 'final.output.tail_sol',\n",
       " 'final.output.tail_au',\n",
       " 'primary_cleaner.output.concentrate_ag',\n",
       " 'primary_cleaner.output.concentrate_pb',\n",
       " 'primary_cleaner.output.concentrate_sol',\n",
       " 'primary_cleaner.output.concentrate_au',\n",
       " 'primary_cleaner.output.tail_ag',\n",
       " 'primary_cleaner.output.tail_pb',\n",
       " 'primary_cleaner.output.tail_sol',\n",
       " 'primary_cleaner.output.tail_au',\n",
       " 'rougher.calculation.sulfate_to_au_concentrate',\n",
       " 'rougher.calculation.floatbank10_sulfate_to_au_feed',\n",
       " 'rougher.calculation.floatbank11_sulfate_to_au_feed',\n",
       " 'rougher.calculation.au_pb_ratio',\n",
       " 'rougher.output.concentrate_ag',\n",
       " 'rougher.output.concentrate_pb',\n",
       " 'rougher.output.concentrate_sol',\n",
       " 'rougher.output.concentrate_au',\n",
       " 'rougher.output.recovery',\n",
       " 'rougher.output.tail_ag',\n",
       " 'rougher.output.tail_pb',\n",
       " 'rougher.output.tail_sol',\n",
       " 'rougher.output.tail_au',\n",
       " 'secondary_cleaner.output.tail_ag',\n",
       " 'secondary_cleaner.output.tail_pb',\n",
       " 'secondary_cleaner.output.tail_sol',\n",
       " 'secondary_cleaner.output.tail_au',\n",
       " 'rougher.output.recovery_check']"
      ]
     },
     "execution_count": 19,
     "metadata": {},
     "output_type": "execute_result"
    }
   ],
   "source": [
    "[clmn for clmn in train_data.columns if clmn not in test_data.columns]"
   ]
  },
  {
   "cell_type": "markdown",
   "metadata": {},
   "source": [
    "Все эти признаки относятся к данным, которые мы получаем уже в процессе очистки"
   ]
  },
  {
   "cell_type": "markdown",
   "metadata": {},
   "source": [
    "### Предобработка данных"
   ]
  },
  {
   "cell_type": "markdown",
   "metadata": {},
   "source": [
    "#### Удаление пропусков"
   ]
  },
  {
   "cell_type": "markdown",
   "metadata": {},
   "source": [
    "Удалим все пропуски"
   ]
  },
  {
   "cell_type": "code",
   "execution_count": 20,
   "metadata": {},
   "outputs": [],
   "source": [
    "train_data.dropna(inplace=True)"
   ]
  },
  {
   "cell_type": "code",
   "execution_count": 21,
   "metadata": {},
   "outputs": [
    {
     "name": "stdout",
     "output_type": "stream",
     "text": [
      "<class 'pandas.core.frame.DataFrame'>\n",
      "Int64Index: 11017 entries, 0 to 16859\n",
      "Data columns (total 88 columns):\n",
      " #   Column                                              Non-Null Count  Dtype  \n",
      "---  ------                                              --------------  -----  \n",
      " 0   date                                                11017 non-null  object \n",
      " 1   final.output.concentrate_ag                         11017 non-null  float64\n",
      " 2   final.output.concentrate_pb                         11017 non-null  float64\n",
      " 3   final.output.concentrate_sol                        11017 non-null  float64\n",
      " 4   final.output.concentrate_au                         11017 non-null  float64\n",
      " 5   final.output.recovery                               11017 non-null  float64\n",
      " 6   final.output.tail_ag                                11017 non-null  float64\n",
      " 7   final.output.tail_pb                                11017 non-null  float64\n",
      " 8   final.output.tail_sol                               11017 non-null  float64\n",
      " 9   final.output.tail_au                                11017 non-null  float64\n",
      " 10  primary_cleaner.input.sulfate                       11017 non-null  float64\n",
      " 11  primary_cleaner.input.depressant                    11017 non-null  float64\n",
      " 12  primary_cleaner.input.feed_size                     11017 non-null  float64\n",
      " 13  primary_cleaner.input.xanthate                      11017 non-null  float64\n",
      " 14  primary_cleaner.output.concentrate_ag               11017 non-null  float64\n",
      " 15  primary_cleaner.output.concentrate_pb               11017 non-null  float64\n",
      " 16  primary_cleaner.output.concentrate_sol              11017 non-null  float64\n",
      " 17  primary_cleaner.output.concentrate_au               11017 non-null  float64\n",
      " 18  primary_cleaner.output.tail_ag                      11017 non-null  float64\n",
      " 19  primary_cleaner.output.tail_pb                      11017 non-null  float64\n",
      " 20  primary_cleaner.output.tail_sol                     11017 non-null  float64\n",
      " 21  primary_cleaner.output.tail_au                      11017 non-null  float64\n",
      " 22  primary_cleaner.state.floatbank8_a_air              11017 non-null  float64\n",
      " 23  primary_cleaner.state.floatbank8_a_level            11017 non-null  float64\n",
      " 24  primary_cleaner.state.floatbank8_b_air              11017 non-null  float64\n",
      " 25  primary_cleaner.state.floatbank8_b_level            11017 non-null  float64\n",
      " 26  primary_cleaner.state.floatbank8_c_air              11017 non-null  float64\n",
      " 27  primary_cleaner.state.floatbank8_c_level            11017 non-null  float64\n",
      " 28  primary_cleaner.state.floatbank8_d_air              11017 non-null  float64\n",
      " 29  primary_cleaner.state.floatbank8_d_level            11017 non-null  float64\n",
      " 30  rougher.calculation.sulfate_to_au_concentrate       11017 non-null  float64\n",
      " 31  rougher.calculation.floatbank10_sulfate_to_au_feed  11017 non-null  float64\n",
      " 32  rougher.calculation.floatbank11_sulfate_to_au_feed  11017 non-null  float64\n",
      " 33  rougher.calculation.au_pb_ratio                     11017 non-null  float64\n",
      " 34  rougher.input.feed_ag                               11017 non-null  float64\n",
      " 35  rougher.input.feed_pb                               11017 non-null  float64\n",
      " 36  rougher.input.feed_rate                             11017 non-null  float64\n",
      " 37  rougher.input.feed_size                             11017 non-null  float64\n",
      " 38  rougher.input.feed_sol                              11017 non-null  float64\n",
      " 39  rougher.input.feed_au                               11017 non-null  float64\n",
      " 40  rougher.input.floatbank10_sulfate                   11017 non-null  float64\n",
      " 41  rougher.input.floatbank10_xanthate                  11017 non-null  float64\n",
      " 42  rougher.input.floatbank11_sulfate                   11017 non-null  float64\n",
      " 43  rougher.input.floatbank11_xanthate                  11017 non-null  float64\n",
      " 44  rougher.output.concentrate_ag                       11017 non-null  float64\n",
      " 45  rougher.output.concentrate_pb                       11017 non-null  float64\n",
      " 46  rougher.output.concentrate_sol                      11017 non-null  float64\n",
      " 47  rougher.output.concentrate_au                       11017 non-null  float64\n",
      " 48  rougher.output.recovery                             11017 non-null  float64\n",
      " 49  rougher.output.tail_ag                              11017 non-null  float64\n",
      " 50  rougher.output.tail_pb                              11017 non-null  float64\n",
      " 51  rougher.output.tail_sol                             11017 non-null  float64\n",
      " 52  rougher.output.tail_au                              11017 non-null  float64\n",
      " 53  rougher.state.floatbank10_a_air                     11017 non-null  float64\n",
      " 54  rougher.state.floatbank10_a_level                   11017 non-null  float64\n",
      " 55  rougher.state.floatbank10_b_air                     11017 non-null  float64\n",
      " 56  rougher.state.floatbank10_b_level                   11017 non-null  float64\n",
      " 57  rougher.state.floatbank10_c_air                     11017 non-null  float64\n",
      " 58  rougher.state.floatbank10_c_level                   11017 non-null  float64\n",
      " 59  rougher.state.floatbank10_d_air                     11017 non-null  float64\n",
      " 60  rougher.state.floatbank10_d_level                   11017 non-null  float64\n",
      " 61  rougher.state.floatbank10_e_air                     11017 non-null  float64\n",
      " 62  rougher.state.floatbank10_e_level                   11017 non-null  float64\n",
      " 63  rougher.state.floatbank10_f_air                     11017 non-null  float64\n",
      " 64  rougher.state.floatbank10_f_level                   11017 non-null  float64\n",
      " 65  secondary_cleaner.output.tail_ag                    11017 non-null  float64\n",
      " 66  secondary_cleaner.output.tail_pb                    11017 non-null  float64\n",
      " 67  secondary_cleaner.output.tail_sol                   11017 non-null  float64\n",
      " 68  secondary_cleaner.output.tail_au                    11017 non-null  float64\n",
      " 69  secondary_cleaner.state.floatbank2_a_air            11017 non-null  float64\n",
      " 70  secondary_cleaner.state.floatbank2_a_level          11017 non-null  float64\n",
      " 71  secondary_cleaner.state.floatbank2_b_air            11017 non-null  float64\n",
      " 72  secondary_cleaner.state.floatbank2_b_level          11017 non-null  float64\n",
      " 73  secondary_cleaner.state.floatbank3_a_air            11017 non-null  float64\n",
      " 74  secondary_cleaner.state.floatbank3_a_level          11017 non-null  float64\n",
      " 75  secondary_cleaner.state.floatbank3_b_air            11017 non-null  float64\n",
      " 76  secondary_cleaner.state.floatbank3_b_level          11017 non-null  float64\n",
      " 77  secondary_cleaner.state.floatbank4_a_air            11017 non-null  float64\n",
      " 78  secondary_cleaner.state.floatbank4_a_level          11017 non-null  float64\n",
      " 79  secondary_cleaner.state.floatbank4_b_air            11017 non-null  float64\n",
      " 80  secondary_cleaner.state.floatbank4_b_level          11017 non-null  float64\n",
      " 81  secondary_cleaner.state.floatbank5_a_air            11017 non-null  float64\n",
      " 82  secondary_cleaner.state.floatbank5_a_level          11017 non-null  float64\n",
      " 83  secondary_cleaner.state.floatbank5_b_air            11017 non-null  float64\n",
      " 84  secondary_cleaner.state.floatbank5_b_level          11017 non-null  float64\n",
      " 85  secondary_cleaner.state.floatbank6_a_air            11017 non-null  float64\n",
      " 86  secondary_cleaner.state.floatbank6_a_level          11017 non-null  float64\n",
      " 87  rougher.output.recovery_check                       11017 non-null  float64\n",
      "dtypes: float64(87), object(1)\n",
      "memory usage: 7.5+ MB\n"
     ]
    }
   ],
   "source": [
    "train_data.info()"
   ]
  },
  {
   "cell_type": "markdown",
   "metadata": {},
   "source": [
    "#### Удаление 0 значений"
   ]
  },
  {
   "cell_type": "markdown",
   "metadata": {},
   "source": [
    "Разберемся когда мы получаем 0 значения в целевом признаке"
   ]
  },
  {
   "cell_type": "code",
   "execution_count": 22,
   "metadata": {},
   "outputs": [],
   "source": [
    "cols = ['rougher.input.feed_au','rougher.input.floatbank10_sulfate','rougher.input.floatbank10_xanthate','rougher.input.feed_sol','rougher.input.feed_pb',\\\n",
    "            'rougher.input.feed_ag','rougher.input.floatbank11_xanthate','rougher.input.floatbank11_sulfate','rougher.output.concentrate_au','rougher.output.concentrate_ag',\\\n",
    "           'rougher.output.concentrate_pb','rougher.output.concentrate_sol']"
   ]
  },
  {
   "cell_type": "code",
   "execution_count": 23,
   "metadata": {},
   "outputs": [
    {
     "data": {
      "text/html": [
       "<div>\n",
       "<style scoped>\n",
       "    .dataframe tbody tr th:only-of-type {\n",
       "        vertical-align: middle;\n",
       "    }\n",
       "\n",
       "    .dataframe tbody tr th {\n",
       "        vertical-align: top;\n",
       "    }\n",
       "\n",
       "    .dataframe thead th {\n",
       "        text-align: right;\n",
       "    }\n",
       "</style>\n",
       "<table border=\"1\" class=\"dataframe\">\n",
       "  <thead>\n",
       "    <tr style=\"text-align: right;\">\n",
       "      <th></th>\n",
       "      <th>rougher.input.feed_au</th>\n",
       "      <th>rougher.input.floatbank10_sulfate</th>\n",
       "      <th>rougher.input.floatbank10_xanthate</th>\n",
       "      <th>rougher.input.feed_sol</th>\n",
       "      <th>rougher.input.feed_pb</th>\n",
       "      <th>rougher.input.feed_ag</th>\n",
       "      <th>rougher.input.floatbank11_xanthate</th>\n",
       "      <th>rougher.input.floatbank11_sulfate</th>\n",
       "      <th>rougher.output.concentrate_au</th>\n",
       "      <th>rougher.output.concentrate_ag</th>\n",
       "      <th>rougher.output.concentrate_pb</th>\n",
       "      <th>rougher.output.concentrate_sol</th>\n",
       "    </tr>\n",
       "  </thead>\n",
       "  <tbody>\n",
       "    <tr>\n",
       "      <th>45</th>\n",
       "      <td>7.114065</td>\n",
       "      <td>13.322740</td>\n",
       "      <td>7.504592</td>\n",
       "      <td>41.154430</td>\n",
       "      <td>2.811569</td>\n",
       "      <td>7.521974</td>\n",
       "      <td>7.493738</td>\n",
       "      <td>13.311361</td>\n",
       "      <td>0.0</td>\n",
       "      <td>0.0</td>\n",
       "      <td>0.0</td>\n",
       "      <td>0.0</td>\n",
       "    </tr>\n",
       "    <tr>\n",
       "      <th>46</th>\n",
       "      <td>7.651522</td>\n",
       "      <td>14.433889</td>\n",
       "      <td>7.583598</td>\n",
       "      <td>41.983063</td>\n",
       "      <td>2.973841</td>\n",
       "      <td>7.313187</td>\n",
       "      <td>7.578460</td>\n",
       "      <td>14.482716</td>\n",
       "      <td>0.0</td>\n",
       "      <td>0.0</td>\n",
       "      <td>0.0</td>\n",
       "      <td>0.0</td>\n",
       "    </tr>\n",
       "    <tr>\n",
       "      <th>51</th>\n",
       "      <td>7.039270</td>\n",
       "      <td>12.785794</td>\n",
       "      <td>7.797513</td>\n",
       "      <td>38.010139</td>\n",
       "      <td>2.770323</td>\n",
       "      <td>7.835670</td>\n",
       "      <td>7.799592</td>\n",
       "      <td>12.761515</td>\n",
       "      <td>0.0</td>\n",
       "      <td>0.0</td>\n",
       "      <td>0.0</td>\n",
       "      <td>0.0</td>\n",
       "    </tr>\n",
       "    <tr>\n",
       "      <th>52</th>\n",
       "      <td>7.321526</td>\n",
       "      <td>14.027409</td>\n",
       "      <td>7.802530</td>\n",
       "      <td>39.417952</td>\n",
       "      <td>3.073579</td>\n",
       "      <td>8.027547</td>\n",
       "      <td>7.803939</td>\n",
       "      <td>14.013836</td>\n",
       "      <td>0.0</td>\n",
       "      <td>0.0</td>\n",
       "      <td>0.0</td>\n",
       "      <td>0.0</td>\n",
       "    </tr>\n",
       "    <tr>\n",
       "      <th>836</th>\n",
       "      <td>11.433690</td>\n",
       "      <td>14.468858</td>\n",
       "      <td>9.517497</td>\n",
       "      <td>34.949583</td>\n",
       "      <td>5.503190</td>\n",
       "      <td>13.850236</td>\n",
       "      <td>9.514789</td>\n",
       "      <td>14.522210</td>\n",
       "      <td>0.0</td>\n",
       "      <td>0.0</td>\n",
       "      <td>0.0</td>\n",
       "      <td>0.0</td>\n",
       "    </tr>\n",
       "    <tr>\n",
       "      <th>...</th>\n",
       "      <td>...</td>\n",
       "      <td>...</td>\n",
       "      <td>...</td>\n",
       "      <td>...</td>\n",
       "      <td>...</td>\n",
       "      <td>...</td>\n",
       "      <td>...</td>\n",
       "      <td>...</td>\n",
       "      <td>...</td>\n",
       "      <td>...</td>\n",
       "      <td>...</td>\n",
       "      <td>...</td>\n",
       "    </tr>\n",
       "    <tr>\n",
       "      <th>12273</th>\n",
       "      <td>8.693420</td>\n",
       "      <td>8.653006</td>\n",
       "      <td>5.703463</td>\n",
       "      <td>39.543212</td>\n",
       "      <td>2.674788</td>\n",
       "      <td>10.008169</td>\n",
       "      <td>5.702142</td>\n",
       "      <td>8.654270</td>\n",
       "      <td>0.0</td>\n",
       "      <td>0.0</td>\n",
       "      <td>0.0</td>\n",
       "      <td>0.0</td>\n",
       "    </tr>\n",
       "    <tr>\n",
       "      <th>12274</th>\n",
       "      <td>9.406580</td>\n",
       "      <td>9.388084</td>\n",
       "      <td>5.697300</td>\n",
       "      <td>40.013651</td>\n",
       "      <td>3.128491</td>\n",
       "      <td>10.578059</td>\n",
       "      <td>5.700789</td>\n",
       "      <td>9.391906</td>\n",
       "      <td>0.0</td>\n",
       "      <td>0.0</td>\n",
       "      <td>0.0</td>\n",
       "      <td>0.0</td>\n",
       "    </tr>\n",
       "    <tr>\n",
       "      <th>12275</th>\n",
       "      <td>9.705671</td>\n",
       "      <td>9.972796</td>\n",
       "      <td>5.714862</td>\n",
       "      <td>39.508597</td>\n",
       "      <td>3.460388</td>\n",
       "      <td>11.027766</td>\n",
       "      <td>5.716795</td>\n",
       "      <td>9.969833</td>\n",
       "      <td>0.0</td>\n",
       "      <td>0.0</td>\n",
       "      <td>0.0</td>\n",
       "      <td>0.0</td>\n",
       "    </tr>\n",
       "    <tr>\n",
       "      <th>12288</th>\n",
       "      <td>7.838613</td>\n",
       "      <td>7.640938</td>\n",
       "      <td>5.999460</td>\n",
       "      <td>40.723155</td>\n",
       "      <td>2.430129</td>\n",
       "      <td>9.420538</td>\n",
       "      <td>6.002919</td>\n",
       "      <td>7.640271</td>\n",
       "      <td>0.0</td>\n",
       "      <td>0.0</td>\n",
       "      <td>0.0</td>\n",
       "      <td>0.0</td>\n",
       "    </tr>\n",
       "    <tr>\n",
       "      <th>12289</th>\n",
       "      <td>6.944500</td>\n",
       "      <td>6.676732</td>\n",
       "      <td>5.931733</td>\n",
       "      <td>39.861202</td>\n",
       "      <td>2.113918</td>\n",
       "      <td>8.731743</td>\n",
       "      <td>5.929739</td>\n",
       "      <td>6.676412</td>\n",
       "      <td>0.0</td>\n",
       "      <td>0.0</td>\n",
       "      <td>0.0</td>\n",
       "      <td>0.0</td>\n",
       "    </tr>\n",
       "  </tbody>\n",
       "</table>\n",
       "<p>205 rows × 12 columns</p>\n",
       "</div>"
      ],
      "text/plain": [
       "       rougher.input.feed_au  rougher.input.floatbank10_sulfate  \\\n",
       "45                  7.114065                          13.322740   \n",
       "46                  7.651522                          14.433889   \n",
       "51                  7.039270                          12.785794   \n",
       "52                  7.321526                          14.027409   \n",
       "836                11.433690                          14.468858   \n",
       "...                      ...                                ...   \n",
       "12273               8.693420                           8.653006   \n",
       "12274               9.406580                           9.388084   \n",
       "12275               9.705671                           9.972796   \n",
       "12288               7.838613                           7.640938   \n",
       "12289               6.944500                           6.676732   \n",
       "\n",
       "       rougher.input.floatbank10_xanthate  rougher.input.feed_sol  \\\n",
       "45                               7.504592               41.154430   \n",
       "46                               7.583598               41.983063   \n",
       "51                               7.797513               38.010139   \n",
       "52                               7.802530               39.417952   \n",
       "836                              9.517497               34.949583   \n",
       "...                                   ...                     ...   \n",
       "12273                            5.703463               39.543212   \n",
       "12274                            5.697300               40.013651   \n",
       "12275                            5.714862               39.508597   \n",
       "12288                            5.999460               40.723155   \n",
       "12289                            5.931733               39.861202   \n",
       "\n",
       "       rougher.input.feed_pb  rougher.input.feed_ag  \\\n",
       "45                  2.811569               7.521974   \n",
       "46                  2.973841               7.313187   \n",
       "51                  2.770323               7.835670   \n",
       "52                  3.073579               8.027547   \n",
       "836                 5.503190              13.850236   \n",
       "...                      ...                    ...   \n",
       "12273               2.674788              10.008169   \n",
       "12274               3.128491              10.578059   \n",
       "12275               3.460388              11.027766   \n",
       "12288               2.430129               9.420538   \n",
       "12289               2.113918               8.731743   \n",
       "\n",
       "       rougher.input.floatbank11_xanthate  rougher.input.floatbank11_sulfate  \\\n",
       "45                               7.493738                          13.311361   \n",
       "46                               7.578460                          14.482716   \n",
       "51                               7.799592                          12.761515   \n",
       "52                               7.803939                          14.013836   \n",
       "836                              9.514789                          14.522210   \n",
       "...                                   ...                                ...   \n",
       "12273                            5.702142                           8.654270   \n",
       "12274                            5.700789                           9.391906   \n",
       "12275                            5.716795                           9.969833   \n",
       "12288                            6.002919                           7.640271   \n",
       "12289                            5.929739                           6.676412   \n",
       "\n",
       "       rougher.output.concentrate_au  rougher.output.concentrate_ag  \\\n",
       "45                               0.0                            0.0   \n",
       "46                               0.0                            0.0   \n",
       "51                               0.0                            0.0   \n",
       "52                               0.0                            0.0   \n",
       "836                              0.0                            0.0   \n",
       "...                              ...                            ...   \n",
       "12273                            0.0                            0.0   \n",
       "12274                            0.0                            0.0   \n",
       "12275                            0.0                            0.0   \n",
       "12288                            0.0                            0.0   \n",
       "12289                            0.0                            0.0   \n",
       "\n",
       "       rougher.output.concentrate_pb  rougher.output.concentrate_sol  \n",
       "45                               0.0                             0.0  \n",
       "46                               0.0                             0.0  \n",
       "51                               0.0                             0.0  \n",
       "52                               0.0                             0.0  \n",
       "836                              0.0                             0.0  \n",
       "...                              ...                             ...  \n",
       "12273                            0.0                             0.0  \n",
       "12274                            0.0                             0.0  \n",
       "12275                            0.0                             0.0  \n",
       "12288                            0.0                             0.0  \n",
       "12289                            0.0                             0.0  \n",
       "\n",
       "[205 rows x 12 columns]"
      ]
     },
     "execution_count": 23,
     "metadata": {},
     "output_type": "execute_result"
    }
   ],
   "source": [
    "train_data[train_data['rougher.output.recovery']==0][cols]"
   ]
  },
  {
   "cell_type": "code",
   "execution_count": 24,
   "metadata": {},
   "outputs": [
    {
     "data": {
      "text/html": [
       "<div>\n",
       "<style scoped>\n",
       "    .dataframe tbody tr th:only-of-type {\n",
       "        vertical-align: middle;\n",
       "    }\n",
       "\n",
       "    .dataframe tbody tr th {\n",
       "        vertical-align: top;\n",
       "    }\n",
       "\n",
       "    .dataframe thead th {\n",
       "        text-align: right;\n",
       "    }\n",
       "</style>\n",
       "<table border=\"1\" class=\"dataframe\">\n",
       "  <thead>\n",
       "    <tr style=\"text-align: right;\">\n",
       "      <th></th>\n",
       "      <th>rougher.input.feed_au</th>\n",
       "      <th>rougher.input.floatbank10_sulfate</th>\n",
       "      <th>rougher.input.floatbank10_xanthate</th>\n",
       "      <th>rougher.input.feed_sol</th>\n",
       "      <th>rougher.input.feed_pb</th>\n",
       "      <th>rougher.input.feed_ag</th>\n",
       "      <th>rougher.input.floatbank11_xanthate</th>\n",
       "      <th>rougher.input.floatbank11_sulfate</th>\n",
       "      <th>rougher.output.concentrate_au</th>\n",
       "      <th>rougher.output.concentrate_ag</th>\n",
       "      <th>rougher.output.concentrate_pb</th>\n",
       "      <th>rougher.output.concentrate_sol</th>\n",
       "    </tr>\n",
       "  </thead>\n",
       "  <tbody>\n",
       "    <tr>\n",
       "      <th>0</th>\n",
       "      <td>6.486150</td>\n",
       "      <td>11.986616</td>\n",
       "      <td>6.007990</td>\n",
       "      <td>36.808594</td>\n",
       "      <td>2.284912</td>\n",
       "      <td>6.100378</td>\n",
       "      <td>6.005818</td>\n",
       "      <td>11.836743</td>\n",
       "      <td>19.793808</td>\n",
       "      <td>11.500771</td>\n",
       "      <td>7.101074</td>\n",
       "      <td>28.029297</td>\n",
       "    </tr>\n",
       "    <tr>\n",
       "      <th>1</th>\n",
       "      <td>6.478583</td>\n",
       "      <td>11.971193</td>\n",
       "      <td>6.005766</td>\n",
       "      <td>35.753385</td>\n",
       "      <td>2.266033</td>\n",
       "      <td>6.161113</td>\n",
       "      <td>6.012594</td>\n",
       "      <td>11.996163</td>\n",
       "      <td>20.050975</td>\n",
       "      <td>11.615865</td>\n",
       "      <td>7.278807</td>\n",
       "      <td>28.067063</td>\n",
       "    </tr>\n",
       "    <tr>\n",
       "      <th>2</th>\n",
       "      <td>6.362222</td>\n",
       "      <td>11.920603</td>\n",
       "      <td>6.197377</td>\n",
       "      <td>35.971630</td>\n",
       "      <td>2.159622</td>\n",
       "      <td>6.116455</td>\n",
       "      <td>6.204633</td>\n",
       "      <td>11.920305</td>\n",
       "      <td>19.737170</td>\n",
       "      <td>11.695753</td>\n",
       "      <td>7.216833</td>\n",
       "      <td>27.454037</td>\n",
       "    </tr>\n",
       "    <tr>\n",
       "      <th>3</th>\n",
       "      <td>6.118189</td>\n",
       "      <td>11.630094</td>\n",
       "      <td>6.203177</td>\n",
       "      <td>36.862241</td>\n",
       "      <td>2.037807</td>\n",
       "      <td>6.043309</td>\n",
       "      <td>6.196578</td>\n",
       "      <td>11.692450</td>\n",
       "      <td>19.320810</td>\n",
       "      <td>11.915047</td>\n",
       "      <td>7.175616</td>\n",
       "      <td>27.341277</td>\n",
       "    </tr>\n",
       "    <tr>\n",
       "      <th>4</th>\n",
       "      <td>5.663707</td>\n",
       "      <td>10.957755</td>\n",
       "      <td>6.198826</td>\n",
       "      <td>34.347666</td>\n",
       "      <td>1.786875</td>\n",
       "      <td>6.060915</td>\n",
       "      <td>6.194897</td>\n",
       "      <td>10.960521</td>\n",
       "      <td>19.216101</td>\n",
       "      <td>12.411054</td>\n",
       "      <td>7.240205</td>\n",
       "      <td>27.041023</td>\n",
       "    </tr>\n",
       "    <tr>\n",
       "      <th>...</th>\n",
       "      <td>...</td>\n",
       "      <td>...</td>\n",
       "      <td>...</td>\n",
       "      <td>...</td>\n",
       "      <td>...</td>\n",
       "      <td>...</td>\n",
       "      <td>...</td>\n",
       "      <td>...</td>\n",
       "      <td>...</td>\n",
       "      <td>...</td>\n",
       "      <td>...</td>\n",
       "      <td>...</td>\n",
       "    </tr>\n",
       "    <tr>\n",
       "      <th>16855</th>\n",
       "      <td>5.335862</td>\n",
       "      <td>7.762770</td>\n",
       "      <td>9.158609</td>\n",
       "      <td>37.369774</td>\n",
       "      <td>4.617558</td>\n",
       "      <td>6.091855</td>\n",
       "      <td>9.156069</td>\n",
       "      <td>7.766744</td>\n",
       "      <td>18.603550</td>\n",
       "      <td>11.124896</td>\n",
       "      <td>10.984003</td>\n",
       "      <td>30.068876</td>\n",
       "    </tr>\n",
       "    <tr>\n",
       "      <th>16856</th>\n",
       "      <td>4.838619</td>\n",
       "      <td>7.356687</td>\n",
       "      <td>9.304952</td>\n",
       "      <td>38.591551</td>\n",
       "      <td>4.144989</td>\n",
       "      <td>6.121323</td>\n",
       "      <td>9.297924</td>\n",
       "      <td>7.095508</td>\n",
       "      <td>18.441436</td>\n",
       "      <td>11.425983</td>\n",
       "      <td>10.888213</td>\n",
       "      <td>29.783972</td>\n",
       "    </tr>\n",
       "    <tr>\n",
       "      <th>16857</th>\n",
       "      <td>4.525061</td>\n",
       "      <td>6.586020</td>\n",
       "      <td>9.299606</td>\n",
       "      <td>40.074026</td>\n",
       "      <td>4.020002</td>\n",
       "      <td>5.970515</td>\n",
       "      <td>9.300133</td>\n",
       "      <td>6.584130</td>\n",
       "      <td>15.111231</td>\n",
       "      <td>8.523497</td>\n",
       "      <td>8.955135</td>\n",
       "      <td>22.786467</td>\n",
       "    </tr>\n",
       "    <tr>\n",
       "      <th>16858</th>\n",
       "      <td>4.362781</td>\n",
       "      <td>6.210119</td>\n",
       "      <td>9.297709</td>\n",
       "      <td>39.713906</td>\n",
       "      <td>3.902537</td>\n",
       "      <td>6.048130</td>\n",
       "      <td>9.297194</td>\n",
       "      <td>6.209517</td>\n",
       "      <td>17.834772</td>\n",
       "      <td>11.658799</td>\n",
       "      <td>10.655377</td>\n",
       "      <td>29.052742</td>\n",
       "    </tr>\n",
       "    <tr>\n",
       "      <th>16859</th>\n",
       "      <td>4.365491</td>\n",
       "      <td>6.146982</td>\n",
       "      <td>9.308612</td>\n",
       "      <td>39.135119</td>\n",
       "      <td>3.875727</td>\n",
       "      <td>6.158718</td>\n",
       "      <td>9.309852</td>\n",
       "      <td>6.168939</td>\n",
       "      <td>17.804134</td>\n",
       "      <td>11.959486</td>\n",
       "      <td>10.702148</td>\n",
       "      <td>29.078235</td>\n",
       "    </tr>\n",
       "  </tbody>\n",
       "</table>\n",
       "<p>11017 rows × 12 columns</p>\n",
       "</div>"
      ],
      "text/plain": [
       "       rougher.input.feed_au  rougher.input.floatbank10_sulfate  \\\n",
       "0                   6.486150                          11.986616   \n",
       "1                   6.478583                          11.971193   \n",
       "2                   6.362222                          11.920603   \n",
       "3                   6.118189                          11.630094   \n",
       "4                   5.663707                          10.957755   \n",
       "...                      ...                                ...   \n",
       "16855               5.335862                           7.762770   \n",
       "16856               4.838619                           7.356687   \n",
       "16857               4.525061                           6.586020   \n",
       "16858               4.362781                           6.210119   \n",
       "16859               4.365491                           6.146982   \n",
       "\n",
       "       rougher.input.floatbank10_xanthate  rougher.input.feed_sol  \\\n",
       "0                                6.007990               36.808594   \n",
       "1                                6.005766               35.753385   \n",
       "2                                6.197377               35.971630   \n",
       "3                                6.203177               36.862241   \n",
       "4                                6.198826               34.347666   \n",
       "...                                   ...                     ...   \n",
       "16855                            9.158609               37.369774   \n",
       "16856                            9.304952               38.591551   \n",
       "16857                            9.299606               40.074026   \n",
       "16858                            9.297709               39.713906   \n",
       "16859                            9.308612               39.135119   \n",
       "\n",
       "       rougher.input.feed_pb  rougher.input.feed_ag  \\\n",
       "0                   2.284912               6.100378   \n",
       "1                   2.266033               6.161113   \n",
       "2                   2.159622               6.116455   \n",
       "3                   2.037807               6.043309   \n",
       "4                   1.786875               6.060915   \n",
       "...                      ...                    ...   \n",
       "16855               4.617558               6.091855   \n",
       "16856               4.144989               6.121323   \n",
       "16857               4.020002               5.970515   \n",
       "16858               3.902537               6.048130   \n",
       "16859               3.875727               6.158718   \n",
       "\n",
       "       rougher.input.floatbank11_xanthate  rougher.input.floatbank11_sulfate  \\\n",
       "0                                6.005818                          11.836743   \n",
       "1                                6.012594                          11.996163   \n",
       "2                                6.204633                          11.920305   \n",
       "3                                6.196578                          11.692450   \n",
       "4                                6.194897                          10.960521   \n",
       "...                                   ...                                ...   \n",
       "16855                            9.156069                           7.766744   \n",
       "16856                            9.297924                           7.095508   \n",
       "16857                            9.300133                           6.584130   \n",
       "16858                            9.297194                           6.209517   \n",
       "16859                            9.309852                           6.168939   \n",
       "\n",
       "       rougher.output.concentrate_au  rougher.output.concentrate_ag  \\\n",
       "0                          19.793808                      11.500771   \n",
       "1                          20.050975                      11.615865   \n",
       "2                          19.737170                      11.695753   \n",
       "3                          19.320810                      11.915047   \n",
       "4                          19.216101                      12.411054   \n",
       "...                              ...                            ...   \n",
       "16855                      18.603550                      11.124896   \n",
       "16856                      18.441436                      11.425983   \n",
       "16857                      15.111231                       8.523497   \n",
       "16858                      17.834772                      11.658799   \n",
       "16859                      17.804134                      11.959486   \n",
       "\n",
       "       rougher.output.concentrate_pb  rougher.output.concentrate_sol  \n",
       "0                           7.101074                       28.029297  \n",
       "1                           7.278807                       28.067063  \n",
       "2                           7.216833                       27.454037  \n",
       "3                           7.175616                       27.341277  \n",
       "4                           7.240205                       27.041023  \n",
       "...                              ...                             ...  \n",
       "16855                      10.984003                       30.068876  \n",
       "16856                      10.888213                       29.783972  \n",
       "16857                       8.955135                       22.786467  \n",
       "16858                      10.655377                       29.052742  \n",
       "16859                      10.702148                       29.078235  \n",
       "\n",
       "[11017 rows x 12 columns]"
      ]
     },
     "execution_count": 24,
     "metadata": {},
     "output_type": "execute_result"
    }
   ],
   "source": [
    "train_data[cols]"
   ]
  },
  {
   "cell_type": "markdown",
   "metadata": {},
   "source": [
    "Можно сделать вывод, что либо ошибки в данных, либо неудачные попытки очистки. Избавимся от этих значений"
   ]
  },
  {
   "cell_type": "code",
   "execution_count": 25,
   "metadata": {},
   "outputs": [],
   "source": [
    "train_data = train_data[(train_data['rougher.output.recovery']!=0) & (train_data['final.output.recovery']!=0)]"
   ]
  },
  {
   "cell_type": "markdown",
   "metadata": {},
   "source": [
    "## Анализ данных"
   ]
  },
  {
   "cell_type": "markdown",
   "metadata": {},
   "source": [
    "### Анализ изменения концентрации металлов"
   ]
  },
  {
   "cell_type": "markdown",
   "metadata": {},
   "source": [
    "Посмотрим как меняется концентрация металлов (Au, Ag, Pb) на различных этапах очистки. "
   ]
  },
  {
   "cell_type": "code",
   "execution_count": 26,
   "metadata": {
    "scrolled": true
   },
   "outputs": [
    {
     "name": "stdout",
     "output_type": "stream",
     "text": [
      "<class 'pandas.core.frame.DataFrame'>\n",
      "RangeIndex: 22716 entries, 0 to 22715\n",
      "Data columns (total 87 columns):\n",
      " #   Column                                              Non-Null Count  Dtype  \n",
      "---  ------                                              --------------  -----  \n",
      " 0   date                                                22716 non-null  object \n",
      " 1   final.output.concentrate_ag                         22627 non-null  float64\n",
      " 2   final.output.concentrate_pb                         22629 non-null  float64\n",
      " 3   final.output.concentrate_sol                        22331 non-null  float64\n",
      " 4   final.output.concentrate_au                         22630 non-null  float64\n",
      " 5   final.output.recovery                               20753 non-null  float64\n",
      " 6   final.output.tail_ag                                22633 non-null  float64\n",
      " 7   final.output.tail_pb                                22516 non-null  float64\n",
      " 8   final.output.tail_sol                               22445 non-null  float64\n",
      " 9   final.output.tail_au                                22635 non-null  float64\n",
      " 10  primary_cleaner.input.sulfate                       21107 non-null  float64\n",
      " 11  primary_cleaner.input.depressant                    21170 non-null  float64\n",
      " 12  primary_cleaner.input.feed_size                     22716 non-null  float64\n",
      " 13  primary_cleaner.input.xanthate                      21565 non-null  float64\n",
      " 14  primary_cleaner.output.concentrate_ag               22618 non-null  float64\n",
      " 15  primary_cleaner.output.concentrate_pb               22268 non-null  float64\n",
      " 16  primary_cleaner.output.concentrate_sol              21918 non-null  float64\n",
      " 17  primary_cleaner.output.concentrate_au               22618 non-null  float64\n",
      " 18  primary_cleaner.output.tail_ag                      22614 non-null  float64\n",
      " 19  primary_cleaner.output.tail_pb                      22594 non-null  float64\n",
      " 20  primary_cleaner.output.tail_sol                     22365 non-null  float64\n",
      " 21  primary_cleaner.output.tail_au                      22617 non-null  float64\n",
      " 22  primary_cleaner.state.floatbank8_a_air              22660 non-null  float64\n",
      " 23  primary_cleaner.state.floatbank8_a_level            22667 non-null  float64\n",
      " 24  primary_cleaner.state.floatbank8_b_air              22660 non-null  float64\n",
      " 25  primary_cleaner.state.floatbank8_b_level            22673 non-null  float64\n",
      " 26  primary_cleaner.state.floatbank8_c_air              22662 non-null  float64\n",
      " 27  primary_cleaner.state.floatbank8_c_level            22673 non-null  float64\n",
      " 28  primary_cleaner.state.floatbank8_d_air              22661 non-null  float64\n",
      " 29  primary_cleaner.state.floatbank8_d_level            22673 non-null  float64\n",
      " 30  rougher.calculation.sulfate_to_au_concentrate       22672 non-null  float64\n",
      " 31  rougher.calculation.floatbank10_sulfate_to_au_feed  22672 non-null  float64\n",
      " 32  rougher.calculation.floatbank11_sulfate_to_au_feed  22672 non-null  float64\n",
      " 33  rougher.calculation.au_pb_ratio                     21089 non-null  float64\n",
      " 34  rougher.input.feed_ag                               22618 non-null  float64\n",
      " 35  rougher.input.feed_pb                               22472 non-null  float64\n",
      " 36  rougher.input.feed_rate                             22163 non-null  float64\n",
      " 37  rougher.input.feed_size                             22277 non-null  float64\n",
      " 38  rougher.input.feed_sol                              22357 non-null  float64\n",
      " 39  rougher.input.feed_au                               22617 non-null  float64\n",
      " 40  rougher.input.floatbank10_sulfate                   21415 non-null  float64\n",
      " 41  rougher.input.floatbank10_xanthate                  22247 non-null  float64\n",
      " 42  rougher.input.floatbank11_sulfate                   22038 non-null  float64\n",
      " 43  rougher.input.floatbank11_xanthate                  20459 non-null  float64\n",
      " 44  rougher.output.concentrate_ag                       22618 non-null  float64\n",
      " 45  rougher.output.concentrate_pb                       22618 non-null  float64\n",
      " 46  rougher.output.concentrate_sol                      22526 non-null  float64\n",
      " 47  rougher.output.concentrate_au                       22618 non-null  float64\n",
      " 48  rougher.output.recovery                             19597 non-null  float64\n",
      " 49  rougher.output.tail_ag                              19979 non-null  float64\n",
      " 50  rougher.output.tail_pb                              22618 non-null  float64\n",
      " 51  rougher.output.tail_sol                             19980 non-null  float64\n",
      " 52  rougher.output.tail_au                              19980 non-null  float64\n",
      " 53  rougher.state.floatbank10_a_air                     22646 non-null  float64\n",
      " 54  rougher.state.floatbank10_a_level                   22647 non-null  float64\n",
      " 55  rougher.state.floatbank10_b_air                     22646 non-null  float64\n",
      " 56  rougher.state.floatbank10_b_level                   22647 non-null  float64\n",
      " 57  rougher.state.floatbank10_c_air                     22646 non-null  float64\n",
      " 58  rougher.state.floatbank10_c_level                   22654 non-null  float64\n",
      " 59  rougher.state.floatbank10_d_air                     22641 non-null  float64\n",
      " 60  rougher.state.floatbank10_d_level                   22649 non-null  float64\n",
      " 61  rougher.state.floatbank10_e_air                     22096 non-null  float64\n",
      " 62  rougher.state.floatbank10_e_level                   22649 non-null  float64\n",
      " 63  rougher.state.floatbank10_f_air                     22641 non-null  float64\n",
      " 64  rougher.state.floatbank10_f_level                   22642 non-null  float64\n",
      " 65  secondary_cleaner.output.tail_ag                    22616 non-null  float64\n",
      " 66  secondary_cleaner.output.tail_pb                    22600 non-null  float64\n",
      " 67  secondary_cleaner.output.tail_sol                   20501 non-null  float64\n",
      " 68  secondary_cleaner.output.tail_au                    22618 non-null  float64\n",
      " 69  secondary_cleaner.state.floatbank2_a_air            22333 non-null  float64\n",
      " 70  secondary_cleaner.state.floatbank2_a_level          22591 non-null  float64\n",
      " 71  secondary_cleaner.state.floatbank2_b_air            22538 non-null  float64\n",
      " 72  secondary_cleaner.state.floatbank2_b_level          22588 non-null  float64\n",
      " 73  secondary_cleaner.state.floatbank3_a_air            22585 non-null  float64\n",
      " 74  secondary_cleaner.state.floatbank3_a_level          22587 non-null  float64\n",
      " 75  secondary_cleaner.state.floatbank3_b_air            22592 non-null  float64\n",
      " 76  secondary_cleaner.state.floatbank3_b_level          22590 non-null  float64\n",
      " 77  secondary_cleaner.state.floatbank4_a_air            22571 non-null  float64\n",
      " 78  secondary_cleaner.state.floatbank4_a_level          22587 non-null  float64\n",
      " 79  secondary_cleaner.state.floatbank4_b_air            22608 non-null  float64\n",
      " 80  secondary_cleaner.state.floatbank4_b_level          22607 non-null  float64\n",
      " 81  secondary_cleaner.state.floatbank5_a_air            22615 non-null  float64\n",
      " 82  secondary_cleaner.state.floatbank5_a_level          22615 non-null  float64\n",
      " 83  secondary_cleaner.state.floatbank5_b_air            22615 non-null  float64\n",
      " 84  secondary_cleaner.state.floatbank5_b_level          22616 non-null  float64\n",
      " 85  secondary_cleaner.state.floatbank6_a_air            22597 non-null  float64\n",
      " 86  secondary_cleaner.state.floatbank6_a_level          22615 non-null  float64\n",
      "dtypes: float64(86), object(1)\n",
      "memory usage: 15.1+ MB\n"
     ]
    }
   ],
   "source": [
    "full_data.info()"
   ]
  },
  {
   "cell_type": "markdown",
   "metadata": {},
   "source": [
    "#### Золото"
   ]
  },
  {
   "cell_type": "code",
   "execution_count": 27,
   "metadata": {
    "scrolled": true
   },
   "outputs": [
    {
     "name": "stderr",
     "output_type": "stream",
     "text": [
      "/home/igor/anaconda3/lib/python3.8/site-packages/numpy/lib/histograms.py:839: RuntimeWarning: invalid value encountered in greater_equal\n",
      "  keep = (tmp_a >= first_edge)\n",
      "/home/igor/anaconda3/lib/python3.8/site-packages/numpy/lib/histograms.py:840: RuntimeWarning: invalid value encountered in less_equal\n",
      "  keep &= (tmp_a <= last_edge)\n"
     ]
    },
    {
     "data": {
      "image/png": "[encoded data removed]",
      "text/plain": [
       "<Figure size 720x432 with 1 Axes>"
      ]
     },
     "metadata": {
      "needs_background": "light"
     },
     "output_type": "display_data"
    }
   ],
   "source": [
    "fig, (ax1) = plt.subplots(1,figsize=(10,6))\n",
    "ax1.hist(full_data['rougher.input.feed_au'],density=True,bins=60,alpha = 0.5,label = 'input')\n",
    "ax1.grid(True)\n",
    "ax1.hist(full_data['rougher.output.concentrate_au'],density=True,bins=50,alpha = 0.5,label = 'rougher.output')\n",
    "ax1.hist(full_data['primary_cleaner.output.concentrate_au'],density=True,bins=50,alpha = 0.5,label = 'primary_cleaner.output')\n",
    "ax1.hist(full_data['final.output.concentrate_au'],density=True,bins=50,alpha = 0.5,label = 'final.output')\n",
    "ax1.set_ylabel(\"Плотность частоты\")\n",
    "ax1.set_xlabel('Значение')\n",
    "ax1.set_title('Au')\n",
    "ax1.legend()\n",
    "plt.show()"
   ]
  },
  {
   "cell_type": "markdown",
   "metadata": {},
   "source": [
    "#### Свинец"
   ]
  },
  {
   "cell_type": "code",
   "execution_count": 28,
   "metadata": {},
   "outputs": [
    {
     "data": {
      "image/png": "[encoded data removed]",
      "text/plain": [
       "<Figure size 720x432 with 1 Axes>"
      ]
     },
     "metadata": {
      "needs_background": "light"
     },
     "output_type": "display_data"
    }
   ],
   "source": [
    "fig, (ax1) = plt.subplots(1,figsize=(10,6))\n",
    "ax1.hist(full_data['rougher.input.feed_pb'],density=True,bins=60,alpha = 0.5,label = 'input')\n",
    "ax1.grid(True)\n",
    "ax1.hist(full_data['rougher.output.concentrate_pb'],density=True,bins=50,alpha = 0.5,label = 'rougher.output')\n",
    "ax1.hist(full_data['primary_cleaner.output.concentrate_pb'],density=True,bins=50,alpha = 0.5,label = 'primary_cleaner.output')\n",
    "ax1.hist(full_data['final.output.concentrate_pb'],density=True,bins=50,alpha = 0.5,label = 'final.output')\n",
    "ax1.set_ylabel(\"Плотность частоты\")\n",
    "ax1.set_xlabel('Значение')\n",
    "ax1.set_title('Pb')\n",
    "ax1.legend()\n",
    "plt.show()"
   ]
  },
  {
   "cell_type": "markdown",
   "metadata": {},
   "source": [
    "#### Серебро"
   ]
  },
  {
   "cell_type": "code",
   "execution_count": 29,
   "metadata": {
    "scrolled": true
   },
   "outputs": [
    {
     "data": {
      "image/png": "[encoded data removed]",
      "text/plain": [
       "<Figure size 720x432 with 1 Axes>"
      ]
     },
     "metadata": {
      "needs_background": "light"
     },
     "output_type": "display_data"
    }
   ],
   "source": [
    "fig, (ax1) = plt.subplots(1,figsize=(10,6))\n",
    "ax1.hist(full_data['rougher.input.feed_ag'],density=True,bins=60,alpha = 0.5,label = 'input')\n",
    "ax1.grid(True)\n",
    "ax1.hist(full_data['rougher.output.concentrate_ag'],density=True,bins=50,alpha = 0.5,label = 'rougher.output')\n",
    "ax1.hist(full_data['primary_cleaner.output.concentrate_ag'],density=True,bins=50,alpha = 0.5,label = 'primary_cleaner.output')\n",
    "ax1.hist(full_data['final.output.concentrate_ag'],density=True,bins=50,alpha = 0.5,label = 'final.output')\n",
    "ax1.set_ylabel(\"Плотность частоты\")\n",
    "ax1.set_xlabel('Значение')\n",
    "ax1.set_title('Ag')\n",
    "ax1.legend()\n",
    "plt.show()"
   ]
  },
  {
   "cell_type": "markdown",
   "metadata": {},
   "source": [
    "Вывод: можно предположить что концентрация золота сильно растет с каждым этапом очистки. Концентрация серебра сильно падает с каждым этапом. А концентрация свинца растет после 1 этапа и остается неизменной на следующих"
   ]
  },
  {
   "cell_type": "markdown",
   "metadata": {},
   "source": [
    "### Сравнение распределения размеров гранул сырья"
   ]
  },
  {
   "cell_type": "markdown",
   "metadata": {},
   "source": [
    "Сравним для начала среднее значения размеров гранул сырья в обоих выборках"
   ]
  },
  {
   "cell_type": "code",
   "execution_count": 30,
   "metadata": {},
   "outputs": [
    {
     "data": {
      "text/plain": [
       "57.31586279461973"
      ]
     },
     "execution_count": 30,
     "metadata": {},
     "output_type": "execute_result"
    }
   ],
   "source": [
    "train_data['rougher.input.feed_size'].mean()"
   ]
  },
  {
   "cell_type": "code",
   "execution_count": 31,
   "metadata": {},
   "outputs": [
    {
     "data": {
      "text/plain": [
       "55.93753506406798"
      ]
     },
     "execution_count": 31,
     "metadata": {},
     "output_type": "execute_result"
    }
   ],
   "source": [
    "test_data['rougher.input.feed_size'].mean()"
   ]
  },
  {
   "cell_type": "code",
   "execution_count": 32,
   "metadata": {},
   "outputs": [
    {
     "data": {
      "image/png": "[encoded data removed]",
      "text/plain": [
       "<Figure size 720x432 with 1 Axes>"
      ]
     },
     "metadata": {
      "needs_background": "light"
     },
     "output_type": "display_data"
    }
   ],
   "source": [
    "fig, (ax1) = plt.subplots(1,figsize=(10,6))\n",
    "ax1.hist(test_data['rougher.input.feed_size'],density=True,bins=50,alpha = 0.5,label = 'test_data')\n",
    "ax1.grid(True)\n",
    "ax1.hist(train_data['rougher.input.feed_size'],density=True,bins=50,alpha = 0.5,label = 'train_data')\n",
    "ax1.set_ylabel(\"Плотность частоты\")\n",
    "ax1.set_xlabel('Значение')\n",
    "ax1.legend()\n",
    "plt.show()"
   ]
  },
  {
   "cell_type": "markdown",
   "metadata": {},
   "source": [
    "Можно сделать вывод, что распределения отличаются незначительно"
   ]
  },
  {
   "cell_type": "markdown",
   "metadata": {},
   "source": [
    "Посчитаем дисперсии"
   ]
  },
  {
   "cell_type": "code",
   "execution_count": 33,
   "metadata": {},
   "outputs": [
    {
     "data": {
      "text/plain": [
       "363.4611923820159"
      ]
     },
     "execution_count": 33,
     "metadata": {},
     "output_type": "execute_result"
    }
   ],
   "source": [
    "np.var(train_data['rougher.input.feed_size'])"
   ]
  },
  {
   "cell_type": "code",
   "execution_count": 34,
   "metadata": {
    "scrolled": true
   },
   "outputs": [
    {
     "data": {
      "text/plain": [
       "516.3031963423578"
      ]
     },
     "execution_count": 34,
     "metadata": {},
     "output_type": "execute_result"
    }
   ],
   "source": [
    "np.var(test_data['rougher.input.feed_size'])"
   ]
  },
  {
   "cell_type": "markdown",
   "metadata": {},
   "source": [
    "Дисперсии отличаются. Учтем это при проверке гипотез"
   ]
  },
  {
   "cell_type": "markdown",
   "metadata": {},
   "source": [
    "Нулевая гипотеза звучит так: Размеры гранул сырья в обоих выборках одинаковы. \n",
    "\n",
    "Альтернативная гипотеза: Размеры гранул сырья в выборках различны"
   ]
  },
  {
   "cell_type": "code",
   "execution_count": 35,
   "metadata": {},
   "outputs": [
    {
     "name": "stdout",
     "output_type": "stream",
     "text": [
      "p-значение: 0.00008114575986303501\n",
      "Отвергаем нулевую гипотезу\n"
     ]
    }
   ],
   "source": [
    "alpha = .05\n",
    "results = st.ttest_ind(\n",
    "     train_data['rougher.input.feed_size'], \n",
    "     test_data['rougher.input.feed_size'],nan_policy = 'omit',equal_var = False)\n",
    "\n",
    "print(f'p-значение: {results.pvalue:.20f}')\n",
    "\n",
    "if results.pvalue < alpha:\n",
    "    print(\"Отвергаем нулевую гипотезу\")\n",
    "else:\n",
    "    print(\"Не получилось отвергнуть нулевую гипотезу\")"
   ]
  },
  {
   "cell_type": "markdown",
   "metadata": {},
   "source": [
    "Средние немного отличаются"
   ]
  },
  {
   "cell_type": "markdown",
   "metadata": {
    "toc-hr-collapsed": true
   },
   "source": [
    "### Исследование суммарной концентрации "
   ]
  },
  {
   "cell_type": "code",
   "execution_count": 36,
   "metadata": {},
   "outputs": [
    {
     "name": "stdout",
     "output_type": "stream",
     "text": [
      "<class 'pandas.core.frame.DataFrame'>\n",
      "Int64Index: 10784 entries, 0 to 16859\n",
      "Data columns (total 88 columns):\n",
      " #   Column                                              Non-Null Count  Dtype  \n",
      "---  ------                                              --------------  -----  \n",
      " 0   date                                                10784 non-null  object \n",
      " 1   final.output.concentrate_ag                         10784 non-null  float64\n",
      " 2   final.output.concentrate_pb                         10784 non-null  float64\n",
      " 3   final.output.concentrate_sol                        10784 non-null  float64\n",
      " 4   final.output.concentrate_au                         10784 non-null  float64\n",
      " 5   final.output.recovery                               10784 non-null  float64\n",
      " 6   final.output.tail_ag                                10784 non-null  float64\n",
      " 7   final.output.tail_pb                                10784 non-null  float64\n",
      " 8   final.output.tail_sol                               10784 non-null  float64\n",
      " 9   final.output.tail_au                                10784 non-null  float64\n",
      " 10  primary_cleaner.input.sulfate                       10784 non-null  float64\n",
      " 11  primary_cleaner.input.depressant                    10784 non-null  float64\n",
      " 12  primary_cleaner.input.feed_size                     10784 non-null  float64\n",
      " 13  primary_cleaner.input.xanthate                      10784 non-null  float64\n",
      " 14  primary_cleaner.output.concentrate_ag               10784 non-null  float64\n",
      " 15  primary_cleaner.output.concentrate_pb               10784 non-null  float64\n",
      " 16  primary_cleaner.output.concentrate_sol              10784 non-null  float64\n",
      " 17  primary_cleaner.output.concentrate_au               10784 non-null  float64\n",
      " 18  primary_cleaner.output.tail_ag                      10784 non-null  float64\n",
      " 19  primary_cleaner.output.tail_pb                      10784 non-null  float64\n",
      " 20  primary_cleaner.output.tail_sol                     10784 non-null  float64\n",
      " 21  primary_cleaner.output.tail_au                      10784 non-null  float64\n",
      " 22  primary_cleaner.state.floatbank8_a_air              10784 non-null  float64\n",
      " 23  primary_cleaner.state.floatbank8_a_level            10784 non-null  float64\n",
      " 24  primary_cleaner.state.floatbank8_b_air              10784 non-null  float64\n",
      " 25  primary_cleaner.state.floatbank8_b_level            10784 non-null  float64\n",
      " 26  primary_cleaner.state.floatbank8_c_air              10784 non-null  float64\n",
      " 27  primary_cleaner.state.floatbank8_c_level            10784 non-null  float64\n",
      " 28  primary_cleaner.state.floatbank8_d_air              10784 non-null  float64\n",
      " 29  primary_cleaner.state.floatbank8_d_level            10784 non-null  float64\n",
      " 30  rougher.calculation.sulfate_to_au_concentrate       10784 non-null  float64\n",
      " 31  rougher.calculation.floatbank10_sulfate_to_au_feed  10784 non-null  float64\n",
      " 32  rougher.calculation.floatbank11_sulfate_to_au_feed  10784 non-null  float64\n",
      " 33  rougher.calculation.au_pb_ratio                     10784 non-null  float64\n",
      " 34  rougher.input.feed_ag                               10784 non-null  float64\n",
      " 35  rougher.input.feed_pb                               10784 non-null  float64\n",
      " 36  rougher.input.feed_rate                             10784 non-null  float64\n",
      " 37  rougher.input.feed_size                             10784 non-null  float64\n",
      " 38  rougher.input.feed_sol                              10784 non-null  float64\n",
      " 39  rougher.input.feed_au                               10784 non-null  float64\n",
      " 40  rougher.input.floatbank10_sulfate                   10784 non-null  float64\n",
      " 41  rougher.input.floatbank10_xanthate                  10784 non-null  float64\n",
      " 42  rougher.input.floatbank11_sulfate                   10784 non-null  float64\n",
      " 43  rougher.input.floatbank11_xanthate                  10784 non-null  float64\n",
      " 44  rougher.output.concentrate_ag                       10784 non-null  float64\n",
      " 45  rougher.output.concentrate_pb                       10784 non-null  float64\n",
      " 46  rougher.output.concentrate_sol                      10784 non-null  float64\n",
      " 47  rougher.output.concentrate_au                       10784 non-null  float64\n",
      " 48  rougher.output.recovery                             10784 non-null  float64\n",
      " 49  rougher.output.tail_ag                              10784 non-null  float64\n",
      " 50  rougher.output.tail_pb                              10784 non-null  float64\n",
      " 51  rougher.output.tail_sol                             10784 non-null  float64\n",
      " 52  rougher.output.tail_au                              10784 non-null  float64\n",
      " 53  rougher.state.floatbank10_a_air                     10784 non-null  float64\n",
      " 54  rougher.state.floatbank10_a_level                   10784 non-null  float64\n",
      " 55  rougher.state.floatbank10_b_air                     10784 non-null  float64\n",
      " 56  rougher.state.floatbank10_b_level                   10784 non-null  float64\n",
      " 57  rougher.state.floatbank10_c_air                     10784 non-null  float64\n",
      " 58  rougher.state.floatbank10_c_level                   10784 non-null  float64\n",
      " 59  rougher.state.floatbank10_d_air                     10784 non-null  float64\n",
      " 60  rougher.state.floatbank10_d_level                   10784 non-null  float64\n",
      " 61  rougher.state.floatbank10_e_air                     10784 non-null  float64\n",
      " 62  rougher.state.floatbank10_e_level                   10784 non-null  float64\n",
      " 63  rougher.state.floatbank10_f_air                     10784 non-null  float64\n",
      " 64  rougher.state.floatbank10_f_level                   10784 non-null  float64\n",
      " 65  secondary_cleaner.output.tail_ag                    10784 non-null  float64\n",
      " 66  secondary_cleaner.output.tail_pb                    10784 non-null  float64\n",
      " 67  secondary_cleaner.output.tail_sol                   10784 non-null  float64\n",
      " 68  secondary_cleaner.output.tail_au                    10784 non-null  float64\n",
      " 69  secondary_cleaner.state.floatbank2_a_air            10784 non-null  float64\n",
      " 70  secondary_cleaner.state.floatbank2_a_level          10784 non-null  float64\n",
      " 71  secondary_cleaner.state.floatbank2_b_air            10784 non-null  float64\n",
      " 72  secondary_cleaner.state.floatbank2_b_level          10784 non-null  float64\n",
      " 73  secondary_cleaner.state.floatbank3_a_air            10784 non-null  float64\n",
      " 74  secondary_cleaner.state.floatbank3_a_level          10784 non-null  float64\n",
      " 75  secondary_cleaner.state.floatbank3_b_air            10784 non-null  float64\n",
      " 76  secondary_cleaner.state.floatbank3_b_level          10784 non-null  float64\n",
      " 77  secondary_cleaner.state.floatbank4_a_air            10784 non-null  float64\n",
      " 78  secondary_cleaner.state.floatbank4_a_level          10784 non-null  float64\n",
      " 79  secondary_cleaner.state.floatbank4_b_air            10784 non-null  float64\n",
      " 80  secondary_cleaner.state.floatbank4_b_level          10784 non-null  float64\n",
      " 81  secondary_cleaner.state.floatbank5_a_air            10784 non-null  float64\n",
      " 82  secondary_cleaner.state.floatbank5_a_level          10784 non-null  float64\n",
      " 83  secondary_cleaner.state.floatbank5_b_air            10784 non-null  float64\n",
      " 84  secondary_cleaner.state.floatbank5_b_level          10784 non-null  float64\n",
      " 85  secondary_cleaner.state.floatbank6_a_air            10784 non-null  float64\n",
      " 86  secondary_cleaner.state.floatbank6_a_level          10784 non-null  float64\n",
      " 87  rougher.output.recovery_check                       10784 non-null  float64\n",
      "dtypes: float64(87), object(1)\n",
      "memory usage: 7.3+ MB\n"
     ]
    }
   ],
   "source": [
    "train_data.info()"
   ]
  },
  {
   "cell_type": "markdown",
   "metadata": {},
   "source": [
    "Введем новые признаки в которых просуммироуем концентрацию всех веществ на каждой стадии"
   ]
  },
  {
   "cell_type": "code",
   "execution_count": 37,
   "metadata": {},
   "outputs": [],
   "source": [
    "train_data['final.output.concentrate'] = train_data['final.output.concentrate_ag'] +train_data['final.output.concentrate_au']\\\n",
    "+train_data['final.output.concentrate_pb']+train_data['final.output.concentrate_sol']"
   ]
  },
  {
   "cell_type": "code",
   "execution_count": 38,
   "metadata": {},
   "outputs": [],
   "source": [
    "train_data['primary_cleaner.output.concentrate'] = train_data['primary_cleaner.output.concentrate_ag'] +train_data['final.output.concentrate_au']\\\n",
    "+train_data['primary_cleaner.output.concentrate_pb']+train_data['primary_cleaner.output.concentrate_sol']"
   ]
  },
  {
   "cell_type": "code",
   "execution_count": 39,
   "metadata": {},
   "outputs": [],
   "source": [
    "train_data['rougher.output.concentrate'] = train_data['rougher.output.concentrate_ag'] +train_data['rougher.output.concentrate_au']\\\n",
    "+train_data['rougher.output.concentrate_pb']+train_data['rougher.output.concentrate_sol']"
   ]
  },
  {
   "cell_type": "code",
   "execution_count": 40,
   "metadata": {},
   "outputs": [
    {
     "data": {
      "text/plain": [
       "count    10784.000000\n",
       "mean        69.181170\n",
       "std          7.975286\n",
       "min          0.040000\n",
       "25%         65.753336\n",
       "50%         69.852369\n",
       "75%         74.009590\n",
       "max         87.273435\n",
       "Name: rougher.output.concentrate, dtype: float64"
      ]
     },
     "execution_count": 40,
     "metadata": {},
     "output_type": "execute_result"
    }
   ],
   "source": [
    "train_data['rougher.output.concentrate'].describe()"
   ]
  },
  {
   "cell_type": "code",
   "execution_count": 41,
   "metadata": {},
   "outputs": [
    {
     "data": {
      "text/plain": [
       "count    10784.000000\n",
       "mean        72.592311\n",
       "std          7.343565\n",
       "min          5.901388\n",
       "25%         69.431046\n",
       "50%         73.385627\n",
       "75%         77.301683\n",
       "max         89.861220\n",
       "Name: primary_cleaner.output.concentrate, dtype: float64"
      ]
     },
     "execution_count": 41,
     "metadata": {},
     "output_type": "execute_result"
    }
   ],
   "source": [
    "train_data['primary_cleaner.output.concentrate'].describe()"
   ]
  },
  {
   "cell_type": "code",
   "execution_count": 42,
   "metadata": {},
   "outputs": [
    {
     "data": {
      "text/plain": [
       "count    10784.000000\n",
       "mean        69.250053\n",
       "std          4.777535\n",
       "min         11.022639\n",
       "25%         67.910858\n",
       "50%         69.474586\n",
       "75%         71.302386\n",
       "max         80.210644\n",
       "Name: final.output.concentrate, dtype: float64"
      ]
     },
     "execution_count": 42,
     "metadata": {},
     "output_type": "execute_result"
    }
   ],
   "source": [
    "train_data['final.output.concentrate'].describe()"
   ]
  },
  {
   "cell_type": "code",
   "execution_count": 43,
   "metadata": {
    "scrolled": true
   },
   "outputs": [
    {
     "data": {
      "image/png": "[encoded data removed]",
      "text/plain": [
       "<Figure size 720x432 with 1 Axes>"
      ]
     },
     "metadata": {
      "needs_background": "light"
     },
     "output_type": "display_data"
    }
   ],
   "source": [
    "fig, (ax1) = plt.subplots(1,figsize=(10,6))\n",
    "ax1.hist(train_data['rougher.output.concentrate'],density=True,bins=60,alpha = 0.5,label = 'rougher')\n",
    "ax1.grid(True)\n",
    "ax1.hist(train_data['primary_cleaner.output.concentrate'],density=True,bins=50,alpha = 0.5,label = 'primary_cleaner')\n",
    "ax1.hist(train_data['final.output.concentrate'],density=True,bins=50,alpha = 0.5,label = 'final')\n",
    "ax1.set_ylabel(\"Плотность частоты\")\n",
    "ax1.set_xlabel('Значение')\n",
    "ax1.legend()\n",
    "plt.show()"
   ]
  },
  {
   "cell_type": "markdown",
   "metadata": {},
   "source": [
    "Аномальных значений нет. Суммарная концентрация веществ не превышает логически допустимых значений."
   ]
  },
  {
   "cell_type": "markdown",
   "metadata": {},
   "source": [
    "## Построение моделей"
   ]
  },
  {
   "cell_type": "markdown",
   "metadata": {},
   "source": [
    "3.1.Создание функции для вычисления итоговой sMAPE.\n",
    "\n",
    "3.1.Обучение разных моделей и оценка их качества кросс-валидацией. Выбор лучшей модели и проверка её на тестовой выборке. Формулирование выводов."
   ]
  },
  {
   "cell_type": "markdown",
   "metadata": {},
   "source": [
    "### Создание функции для вычисления sMAPE"
   ]
  },
  {
   "cell_type": "code",
   "execution_count": 44,
   "metadata": {},
   "outputs": [],
   "source": [
    "def smape_calc(target,predict):   \n",
    "    target = target.to_numpy()\n",
    "\n",
    "    sum_rougher_final=2*abs(target-predict)/(abs(target)+abs(predict))\n",
    "    sum_rougher = np.sum(sum_rougher_final,axis=0)[0]\n",
    "    sum_final = np.sum(sum_rougher_final,axis=0)[1]                                      \n",
    "\n",
    "    \n",
    "    smape_rougher=(100/len(target))*sum_rougher\n",
    "    smape_final = (100/len(target))*sum_final\n",
    "    \n",
    "    return 0.25*smape_rougher+0.75*smape_final"
   ]
  },
  {
   "cell_type": "markdown",
   "metadata": {},
   "source": [
    "### Удаление лишних признаков и подготовка выборок"
   ]
  },
  {
   "cell_type": "markdown",
   "metadata": {},
   "source": [
    "Для обучения модели мы можем использовать только те признаки, которые есть в тестовой выборке."
   ]
  },
  {
   "cell_type": "code",
   "execution_count": null,
   "metadata": {
    "scrolled": true
   },
   "outputs": [],
   "source": [
    "train_data_cut = train_data[test_data.columns]\n",
    "train_data_cut['rougher.output.recovery'] = train_data['rougher.output.recovery'].copy()\n",
    "train_data_cut['final.output.recovery'] = train_data['final.output.recovery'].copy()"
   ]
  },
  {
   "cell_type": "code",
   "execution_count": 46,
   "metadata": {
    "scrolled": true
   },
   "outputs": [],
   "source": [
    "target_data_cut = train_data_cut[['rougher.output.recovery','final.output.recovery']]"
   ]
  },
  {
   "cell_type": "code",
   "execution_count": 47,
   "metadata": {},
   "outputs": [],
   "source": [
    "train_data_cut = train_data_cut.drop(['date','rougher.output.recovery','final.output.recovery'],axis=1)"
   ]
  },
  {
   "cell_type": "markdown",
   "metadata": {},
   "source": [
    "### Обучение моделей"
   ]
  },
  {
   "cell_type": "markdown",
   "metadata": {},
   "source": [
    "На основе функции написанной ранее создадим scorer"
   ]
  },
  {
   "cell_type": "code",
   "execution_count": 48,
   "metadata": {},
   "outputs": [],
   "source": [
    "my_scorer = make_scorer(smape_calc)"
   ]
  },
  {
   "cell_type": "markdown",
   "metadata": {},
   "source": [
    "#### Дерево решений"
   ]
  },
  {
   "cell_type": "code",
   "execution_count": 49,
   "metadata": {
    "scrolled": true
   },
   "outputs": [
    {
     "name": "stdout",
     "output_type": "stream",
     "text": [
      "best score:8.68\n",
      "best depth:3 \n"
     ]
    }
   ],
   "source": [
    "best_depth = 1\n",
    "best_DT_model= None\n",
    "best_result = np.inf\n",
    "for depth in range(3, 20):\n",
    "    DT_model = DecisionTreeRegressor(random_state=12345,max_depth=depth)\n",
    "    result = np.mean(cross_val_score(DT_model, train_data_cut, target_data_cut, cv=3,scoring=my_scorer))\n",
    "    if best_result>result:\n",
    "        \n",
    "        best_result = result\n",
    "        best_DT_model = DT_model\n",
    "        best_depth = depth\n",
    "        \n",
    "print(f'best score:{best_result:.2f}')\n",
    "print(f'best depth:{best_depth} ')"
   ]
  },
  {
   "cell_type": "code",
   "execution_count": 50,
   "metadata": {
    "scrolled": true
   },
   "outputs": [
    {
     "data": {
      "text/plain": [
       "DecisionTreeRegressor(max_depth=3, random_state=12345)"
      ]
     },
     "execution_count": 50,
     "metadata": {},
     "output_type": "execute_result"
    }
   ],
   "source": [
    "best_DT_model.fit(train_data_cut,target_data_cut)"
   ]
  },
  {
   "cell_type": "markdown",
   "metadata": {},
   "source": [
    "Посмотрим какие признаки были важны для предсказания"
   ]
  },
  {
   "cell_type": "code",
   "execution_count": 51,
   "metadata": {},
   "outputs": [
    {
     "name": "stdout",
     "output_type": "stream",
     "text": [
      "primary_cleaner.input.sulfate 0.0\n",
      "primary_cleaner.input.depressant 0.0\n",
      "primary_cleaner.input.feed_size 0.0\n",
      "primary_cleaner.input.xanthate 0.0\n",
      "primary_cleaner.state.floatbank8_a_air 0.0\n",
      "primary_cleaner.state.floatbank8_a_level 0.0\n",
      "primary_cleaner.state.floatbank8_b_air 0.0\n",
      "primary_cleaner.state.floatbank8_b_level 0.0\n",
      "primary_cleaner.state.floatbank8_c_air 0.0\n",
      "primary_cleaner.state.floatbank8_c_level 0.0\n",
      "primary_cleaner.state.floatbank8_d_air 0.0\n",
      "primary_cleaner.state.floatbank8_d_level 0.0\n",
      "rougher.input.feed_ag 0.5510971433337203\n",
      "rougher.input.feed_pb 0.0\n",
      "rougher.input.feed_rate 0.0\n",
      "rougher.input.feed_size 0.0\n",
      "rougher.input.feed_sol 0.0\n",
      "rougher.input.feed_au 0.03401434133383965\n",
      "rougher.input.floatbank10_sulfate 0.0\n",
      "rougher.input.floatbank10_xanthate 0.024586009928588476\n",
      "rougher.input.floatbank11_sulfate 0.0\n",
      "rougher.input.floatbank11_xanthate 0.0\n",
      "rougher.state.floatbank10_a_air 0.0\n",
      "rougher.state.floatbank10_a_level 0.0\n",
      "rougher.state.floatbank10_b_air 0.0\n",
      "rougher.state.floatbank10_b_level 0.0\n",
      "rougher.state.floatbank10_c_air 0.0\n",
      "rougher.state.floatbank10_c_level 0.0\n",
      "rougher.state.floatbank10_d_air 0.0\n",
      "rougher.state.floatbank10_d_level 0.0\n",
      "rougher.state.floatbank10_e_air 0.0\n",
      "rougher.state.floatbank10_e_level 0.0\n",
      "rougher.state.floatbank10_f_air 0.0\n",
      "rougher.state.floatbank10_f_level 0.0\n",
      "secondary_cleaner.state.floatbank2_a_air 0.08465157087102151\n",
      "secondary_cleaner.state.floatbank2_a_level 0.0\n",
      "secondary_cleaner.state.floatbank2_b_air 0.0\n",
      "secondary_cleaner.state.floatbank2_b_level 0.0\n",
      "secondary_cleaner.state.floatbank3_a_air 0.0\n",
      "secondary_cleaner.state.floatbank3_a_level 0.03245146221635986\n",
      "secondary_cleaner.state.floatbank3_b_air 0.0\n",
      "secondary_cleaner.state.floatbank3_b_level 0.0\n",
      "secondary_cleaner.state.floatbank4_a_air 0.0798964183081243\n",
      "secondary_cleaner.state.floatbank4_a_level 0.0\n",
      "secondary_cleaner.state.floatbank4_b_air 0.0\n",
      "secondary_cleaner.state.floatbank4_b_level 0.0\n",
      "secondary_cleaner.state.floatbank5_a_air 0.0\n",
      "secondary_cleaner.state.floatbank5_a_level 0.0\n",
      "secondary_cleaner.state.floatbank5_b_air 0.19330305400834594\n",
      "secondary_cleaner.state.floatbank5_b_level 0.0\n",
      "secondary_cleaner.state.floatbank6_a_air 0.0\n",
      "secondary_cleaner.state.floatbank6_a_level 0.0\n"
     ]
    }
   ],
   "source": [
    "for a,b in zip(best_DT_model.feature_importances_,train_data_cut.columns):\n",
    "    print(b,a)"
   ]
  },
  {
   "cell_type": "markdown",
   "metadata": {},
   "source": [
    "Удалим большинство признаков с 0 важностью"
   ]
  },
  {
   "cell_type": "code",
   "execution_count": 52,
   "metadata": {},
   "outputs": [],
   "source": [
    "imp_features_list = ['rougher.input.feed_ag','rougher.input.feed_pb','rougher.input.feed_size'\\\n",
    "                    ,'rougher.input.feed_au','rougher.input.floatbank10_sulfate','rougher.input.floatbank10_xanthate'\\\n",
    "                    ,'rougher.input.floatbank11_xanthate','rougher.state.floatbank10_f_air'\\\n",
    "                    ,'secondary_cleaner.state.floatbank2_a_air','secondary_cleaner.state.floatbank3_a_level'\\\n",
    "                    ,'secondary_cleaner.state.floatbank3_b_air','secondary_cleaner.state.floatbank4_a_air','secondary_cleaner.state.floatbank5_b_air']\n",
    "train_data_cut = train_data_cut[imp_features_list]"
   ]
  },
  {
   "cell_type": "code",
   "execution_count": 53,
   "metadata": {
    "scrolled": true
   },
   "outputs": [
    {
     "name": "stdout",
     "output_type": "stream",
     "text": [
      "best score:8.16\n",
      "best depth:3 \n"
     ]
    }
   ],
   "source": [
    "best_depth = 1\n",
    "best_DT_model= None\n",
    "best_result = np.inf\n",
    "for depth in range(3, 20):\n",
    "    DT_model = DecisionTreeRegressor(random_state=12345,max_depth=depth)\n",
    "    result = np.mean(cross_val_score(DT_model, train_data_cut, target_data_cut, cv=3,scoring=my_scorer))\n",
    "    if best_result>result:\n",
    "        \n",
    "        best_result = result\n",
    "        best_DT_model = DT_model\n",
    "        best_depth = depth\n",
    "        \n",
    "print(f'best score:{best_result:.2f}')\n",
    "print(f'best depth:{best_depth} ')"
   ]
  },
  {
   "cell_type": "markdown",
   "metadata": {},
   "source": [
    "Попробуем поиграть с параметром max_features "
   ]
  },
  {
   "cell_type": "code",
   "execution_count": 54,
   "metadata": {
    "scrolled": true
   },
   "outputs": [
    {
     "name": "stdout",
     "output_type": "stream",
     "text": [
      "best score:7.90\n",
      "best depth:3 \n",
      "best max_features:12\n"
     ]
    }
   ],
   "source": [
    "best_depth = 3\n",
    "best_DT_model= None\n",
    "best_result = np.inf\n",
    "best_max_features = 3\n",
    "for mf in range(3, len(train_data_cut.columns)):\n",
    "    DT_model = DecisionTreeRegressor(random_state=12345,max_depth=best_depth,max_features=mf)\n",
    "    result = np.mean(cross_val_score(DT_model, train_data_cut, target_data_cut, cv=3,scoring=my_scorer))\n",
    "    if best_result>result:\n",
    "        best_max_features = mf\n",
    "        best_result = result\n",
    "        best_DT_model = DT_model\n",
    "\n",
    "        \n",
    "print(f'best score:{best_result:.2f}')\n",
    "print(f'best depth:{best_depth} ')\n",
    "print(f'best max_features:{best_max_features}')"
   ]
  },
  {
   "cell_type": "code",
   "execution_count": 55,
   "metadata": {
    "scrolled": true
   },
   "outputs": [
    {
     "data": {
      "text/plain": [
       "DecisionTreeRegressor(max_depth=3, max_features=12, random_state=12345)"
      ]
     },
     "execution_count": 55,
     "metadata": {},
     "output_type": "execute_result"
    }
   ],
   "source": [
    "best_DT_model.fit(train_data_cut,target_data_cut)"
   ]
  },
  {
   "cell_type": "markdown",
   "metadata": {},
   "source": [
    "#### Случайный лес"
   ]
  },
  {
   "cell_type": "code",
   "execution_count": 57,
   "metadata": {
    "scrolled": true
   },
   "outputs": [
    {
     "data": {
      "application/vnd.jupyter.widget-view+json": {
       "model_id": "",
       "version_major": 2,
       "version_minor": 0
      },
      "text/plain": [
       "HBox(children=(FloatProgress(value=0.0, max=10.0), HTML(value='')))"
      ]
     },
     "metadata": {},
     "output_type": "display_data"
    },
    {
     "data": {
      "application/vnd.jupyter.widget-view+json": {
       "model_id": "",
       "version_major": 2,
       "version_minor": 0
      },
      "text/plain": [
       "HBox(children=(FloatProgress(value=0.0, max=10.0), HTML(value='')))"
      ]
     },
     "metadata": {},
     "output_type": "display_data"
    },
    {
     "name": "stdout",
     "output_type": "stream",
     "text": [
      "new best result 8.072911383335061, est: 1, depth:1\n",
      "new best result 8.054319081196832, est: 1, depth:2\n",
      "new best result 7.9664675786413754, est: 1, depth:3\n",
      "\n"
     ]
    },
    {
     "data": {
      "application/vnd.jupyter.widget-view+json": {
       "model_id": "",
       "version_major": 2,
       "version_minor": 0
      },
      "text/plain": [
       "HBox(children=(FloatProgress(value=0.0, max=10.0), HTML(value='')))"
      ]
     },
     "metadata": {},
     "output_type": "display_data"
    },
    {
     "name": "stdout",
     "output_type": "stream",
     "text": [
      "new best result 7.9507226122827275, est: 2, depth:2\n",
      "new best result 7.922442417027214, est: 2, depth:3\n",
      "\n"
     ]
    },
    {
     "data": {
      "application/vnd.jupyter.widget-view+json": {
       "model_id": "",
       "version_major": 2,
       "version_minor": 0
      },
      "text/plain": [
       "HBox(children=(FloatProgress(value=0.0, max=10.0), HTML(value='')))"
      ]
     },
     "metadata": {},
     "output_type": "display_data"
    },
    {
     "name": "stdout",
     "output_type": "stream",
     "text": [
      "\n"
     ]
    },
    {
     "data": {
      "application/vnd.jupyter.widget-view+json": {
       "model_id": "",
       "version_major": 2,
       "version_minor": 0
      },
      "text/plain": [
       "HBox(children=(FloatProgress(value=0.0, max=10.0), HTML(value='')))"
      ]
     },
     "metadata": {},
     "output_type": "display_data"
    },
    {
     "name": "stdout",
     "output_type": "stream",
     "text": [
      "\n"
     ]
    },
    {
     "data": {
      "application/vnd.jupyter.widget-view+json": {
       "model_id": "",
       "version_major": 2,
       "version_minor": 0
      },
      "text/plain": [
       "HBox(children=(FloatProgress(value=0.0, max=10.0), HTML(value='')))"
      ]
     },
     "metadata": {},
     "output_type": "display_data"
    },
    {
     "name": "stdout",
     "output_type": "stream",
     "text": [
      "\n"
     ]
    },
    {
     "data": {
      "application/vnd.jupyter.widget-view+json": {
       "model_id": "",
       "version_major": 2,
       "version_minor": 0
      },
      "text/plain": [
       "HBox(children=(FloatProgress(value=0.0, max=10.0), HTML(value='')))"
      ]
     },
     "metadata": {},
     "output_type": "display_data"
    },
    {
     "name": "stdout",
     "output_type": "stream",
     "text": [
      "new best result 7.88646103024699, est: 6, depth:2\n",
      "\n"
     ]
    },
    {
     "data": {
      "application/vnd.jupyter.widget-view+json": {
       "model_id": "",
       "version_major": 2,
       "version_minor": 0
      },
      "text/plain": [
       "HBox(children=(FloatProgress(value=0.0, max=10.0), HTML(value='')))"
      ]
     },
     "metadata": {},
     "output_type": "display_data"
    },
    {
     "name": "stdout",
     "output_type": "stream",
     "text": [
      "new best result 7.878631680078129, est: 7, depth:2\n",
      "\n"
     ]
    },
    {
     "data": {
      "application/vnd.jupyter.widget-view+json": {
       "model_id": "",
       "version_major": 2,
       "version_minor": 0
      },
      "text/plain": [
       "HBox(children=(FloatProgress(value=0.0, max=10.0), HTML(value='')))"
      ]
     },
     "metadata": {},
     "output_type": "display_data"
    },
    {
     "name": "stdout",
     "output_type": "stream",
     "text": [
      "\n"
     ]
    },
    {
     "data": {
      "application/vnd.jupyter.widget-view+json": {
       "model_id": "",
       "version_major": 2,
       "version_minor": 0
      },
      "text/plain": [
       "HBox(children=(FloatProgress(value=0.0, max=10.0), HTML(value='')))"
      ]
     },
     "metadata": {},
     "output_type": "display_data"
    },
    {
     "name": "stdout",
     "output_type": "stream",
     "text": [
      "new best result 7.8436247888434, est: 9, depth:2\n",
      "\n"
     ]
    },
    {
     "data": {
      "application/vnd.jupyter.widget-view+json": {
       "model_id": "",
       "version_major": 2,
       "version_minor": 0
      },
      "text/plain": [
       "HBox(children=(FloatProgress(value=0.0, max=10.0), HTML(value='')))"
      ]
     },
     "metadata": {},
     "output_type": "display_data"
    },
    {
     "name": "stdout",
     "output_type": "stream",
     "text": [
      "\n",
      "\n",
      "best score:7.84\n",
      "best depth:2\n",
      "best est:9\n"
     ]
    }
   ],
   "source": [
    "best_RF_model= None\n",
    "best_result = np.inf\n",
    "for est in tqdm(range(1, 11)):\n",
    "    for depth in range(1, 11):\n",
    "        RF_model = RandomForestRegressor(n_estimators=est,random_state=12345,max_depth=depth)\n",
    "        result = np.mean(cross_val_score(RF_model, train_data_cut, target_data_cut, cv=3,scoring=my_scorer))\n",
    "        if best_result>result:\n",
    "            best_result = result\n",
    "            best_RF_model = RF_model\n",
    "            best_depth = depth\n",
    "            best_est = est\n",
    "            print(f'new best result {best_result}, est: {best_est}, depth:{best_depth}')\n",
    "            \n",
    "print(f'best score:{best_result:.2f}')\n",
    "print(f'best depth:{best_depth}')\n",
    "print(f'best est:{best_est}')"
   ]
  },
  {
   "cell_type": "markdown",
   "metadata": {},
   "source": [
    "Подберем параметр max_samples и max_features"
   ]
  },
  {
   "cell_type": "code",
   "execution_count": 55,
   "metadata": {},
   "outputs": [
    {
     "name": "stdout",
     "output_type": "stream",
     "text": [
      "result: 8.26223812247405, best ms:100,best mf:1\n",
      "result: 8.24268015162706, best ms:100,best mf:2\n",
      "result: 8.238854620125638, best ms:500,best mf:2\n",
      "result: 8.062608196467703, best ms:600,best mf:2\n",
      "result: 8.057879252132778, best ms:700,best mf:2\n",
      "result: 8.005869870594639, best ms:900,best mf:2\n",
      "result: 7.989211960560326, best ms:1500,best mf:3\n",
      "result: 7.9066864097928695, best ms:600,best mf:4\n",
      "result: 7.883417682033003, best ms:700,best mf:4\n",
      "result: 7.873666093632809, best ms:600,best mf:5\n",
      "result: 7.8250653421889, best ms:700,best mf:5\n",
      "result: 7.8087986770912226, best ms:800,best mf:5\n",
      "result: 7.781424473733377, best ms:900,best mf:5\n",
      "result: 7.778732937715524, best ms:1100,best mf:5\n",
      "result: 7.756699135485871, best ms:1500,best mf:6\n",
      "result: 7.7191714038222825, best ms:800,best mf:7\n",
      "result: 7.701349292906239, best ms:900,best mf:7\n",
      "result: 7.653800477518257, best ms:800,best mf:9\n",
      "result: 7.641932034900233, best ms:800,best mf:10\n",
      "result: 7.591361389835163, best ms:800,best mf:12\n",
      "best score:7.59\n",
      "best depth:10\n",
      "best est:10\n",
      "best max features:12\n",
      "best max samples:800\n"
     ]
    }
   ],
   "source": [
    "best_RF_model= None\n",
    "best_result = np.inf\n",
    "for mf in range(1, 13):\n",
    "    for ms in range(100, 2000,100):\n",
    "            RF_model = RandomForestRegressor(max_samples=ms,max_features=mf,n_estimators=9,random_state=12345,max_depth=2)\n",
    "            result = np.mean(cross_val_score(RF_model, train_data_cut, target_data_cut, cv=3,scoring=my_scorer))\n",
    "            if best_result>result:\n",
    "                best_result = result\n",
    "                best_RF_model = RF_model\n",
    "                best_depth = depth\n",
    "                best_est = est\n",
    "                best_mf=mf\n",
    "                best_ms=ms\n",
    "                print(f'result: {best_result}, best ms:{best_ms},best mf:{best_mf}')\n",
    "            \n",
    "print(f'best score:{best_result:.2f}')\n",
    "print(f'best depth:{best_depth}')\n",
    "print(f'best est:{best_est}')\n",
    "print(f'best max features:{best_mf}')\n",
    "print(f'best max samples:{best_ms}')"
   ]
  },
  {
   "cell_type": "code",
   "execution_count": 56,
   "metadata": {},
   "outputs": [
    {
     "data": {
      "text/plain": [
       "RandomForestRegressor(max_depth=2, max_features=12, max_samples=800,\n",
       "                      n_estimators=9, random_state=12345)"
      ]
     },
     "execution_count": 56,
     "metadata": {},
     "output_type": "execute_result"
    }
   ],
   "source": [
    "best_RF_model.fit(train_data_cut,target_data_cut)"
   ]
  },
  {
   "cell_type": "markdown",
   "metadata": {},
   "source": [
    "#### Линейная регрессия"
   ]
  },
  {
   "cell_type": "code",
   "execution_count": 57,
   "metadata": {},
   "outputs": [],
   "source": [
    "best_LR_model = LinearRegression()\n",
    "result = np.mean(cross_val_score(best_LR_model, train_data_cut, target_data_cut, cv=3,scoring=my_scorer))"
   ]
  },
  {
   "cell_type": "code",
   "execution_count": 58,
   "metadata": {},
   "outputs": [
    {
     "data": {
      "text/plain": [
       "8.70032128272715"
      ]
     },
     "execution_count": 58,
     "metadata": {},
     "output_type": "execute_result"
    }
   ],
   "source": [
    "result"
   ]
  },
  {
   "cell_type": "code",
   "execution_count": 59,
   "metadata": {
    "scrolled": true
   },
   "outputs": [
    {
     "data": {
      "text/plain": [
       "LinearRegression()"
      ]
     },
     "execution_count": 59,
     "metadata": {},
     "output_type": "execute_result"
    }
   ],
   "source": [
    "best_LR_model.fit(train_data_cut,target_data_cut)"
   ]
  },
  {
   "cell_type": "markdown",
   "metadata": {},
   "source": [
    "#### Проверка на тестовой выборке"
   ]
  },
  {
   "cell_type": "markdown",
   "metadata": {},
   "source": [
    "Выбираем случайный лес, т.к. он показал лучшие результаты на тренировочной выборке."
   ]
  },
  {
   "cell_type": "markdown",
   "metadata": {},
   "source": [
    "Признак date у нас уникален. Дополним выборку test_data целевыми признаками из full_data."
   ]
  },
  {
   "cell_type": "code",
   "execution_count": 60,
   "metadata": {},
   "outputs": [
    {
     "data": {
      "text/plain": [
       "(5856, 53)"
      ]
     },
     "execution_count": 60,
     "metadata": {},
     "output_type": "execute_result"
    }
   ],
   "source": [
    "test_data.shape"
   ]
  },
  {
   "cell_type": "code",
   "execution_count": 61,
   "metadata": {},
   "outputs": [],
   "source": [
    "test_data =test_data.merge(full_data[['rougher.output.recovery','final.output.recovery','date']], on= ['date'],how = 'left')"
   ]
  },
  {
   "cell_type": "markdown",
   "metadata": {},
   "source": [
    "Избавимся от нулевых значений"
   ]
  },
  {
   "cell_type": "code",
   "execution_count": 62,
   "metadata": {},
   "outputs": [],
   "source": [
    "test_data.dropna(inplace=True)"
   ]
  },
  {
   "cell_type": "code",
   "execution_count": 63,
   "metadata": {},
   "outputs": [],
   "source": [
    "test_features = test_data[imp_features_list]"
   ]
  },
  {
   "cell_type": "code",
   "execution_count": 64,
   "metadata": {},
   "outputs": [
    {
     "data": {
      "text/plain": [
       "Index(['date', 'primary_cleaner.input.sulfate',\n",
       "       'primary_cleaner.input.depressant', 'primary_cleaner.input.feed_size',\n",
       "       'primary_cleaner.input.xanthate',\n",
       "       'primary_cleaner.state.floatbank8_a_air',\n",
       "       'primary_cleaner.state.floatbank8_a_level',\n",
       "       'primary_cleaner.state.floatbank8_b_air',\n",
       "       'primary_cleaner.state.floatbank8_b_level',\n",
       "       'primary_cleaner.state.floatbank8_c_air',\n",
       "       'primary_cleaner.state.floatbank8_c_level',\n",
       "       'primary_cleaner.state.floatbank8_d_air',\n",
       "       'primary_cleaner.state.floatbank8_d_level', 'rougher.input.feed_ag',\n",
       "       'rougher.input.feed_pb', 'rougher.input.feed_rate',\n",
       "       'rougher.input.feed_size', 'rougher.input.feed_sol',\n",
       "       'rougher.input.feed_au', 'rougher.input.floatbank10_sulfate',\n",
       "       'rougher.input.floatbank10_xanthate',\n",
       "       'rougher.input.floatbank11_sulfate',\n",
       "       'rougher.input.floatbank11_xanthate', 'rougher.state.floatbank10_a_air',\n",
       "       'rougher.state.floatbank10_a_level', 'rougher.state.floatbank10_b_air',\n",
       "       'rougher.state.floatbank10_b_level', 'rougher.state.floatbank10_c_air',\n",
       "       'rougher.state.floatbank10_c_level', 'rougher.state.floatbank10_d_air',\n",
       "       'rougher.state.floatbank10_d_level', 'rougher.state.floatbank10_e_air',\n",
       "       'rougher.state.floatbank10_e_level', 'rougher.state.floatbank10_f_air',\n",
       "       'rougher.state.floatbank10_f_level',\n",
       "       'secondary_cleaner.state.floatbank2_a_air',\n",
       "       'secondary_cleaner.state.floatbank2_a_level',\n",
       "       'secondary_cleaner.state.floatbank2_b_air',\n",
       "       'secondary_cleaner.state.floatbank2_b_level',\n",
       "       'secondary_cleaner.state.floatbank3_a_air',\n",
       "       'secondary_cleaner.state.floatbank3_a_level',\n",
       "       'secondary_cleaner.state.floatbank3_b_air',\n",
       "       'secondary_cleaner.state.floatbank3_b_level',\n",
       "       'secondary_cleaner.state.floatbank4_a_air',\n",
       "       'secondary_cleaner.state.floatbank4_a_level',\n",
       "       'secondary_cleaner.state.floatbank4_b_air',\n",
       "       'secondary_cleaner.state.floatbank4_b_level',\n",
       "       'secondary_cleaner.state.floatbank5_a_air',\n",
       "       'secondary_cleaner.state.floatbank5_a_level',\n",
       "       'secondary_cleaner.state.floatbank5_b_air',\n",
       "       'secondary_cleaner.state.floatbank5_b_level',\n",
       "       'secondary_cleaner.state.floatbank6_a_air',\n",
       "       'secondary_cleaner.state.floatbank6_a_level', 'rougher.output.recovery',\n",
       "       'final.output.recovery'],\n",
       "      dtype='object')"
      ]
     },
     "execution_count": 64,
     "metadata": {},
     "output_type": "execute_result"
    }
   ],
   "source": [
    "test_data.columns"
   ]
  },
  {
   "cell_type": "code",
   "execution_count": 71,
   "metadata": {},
   "outputs": [],
   "source": [
    "test_target = test_data[['rougher.output.recovery','final.output.recovery']]"
   ]
  },
  {
   "cell_type": "code",
   "execution_count": 72,
   "metadata": {},
   "outputs": [
    {
     "data": {
      "text/plain": [
       "(5229, 13)"
      ]
     },
     "execution_count": 72,
     "metadata": {},
     "output_type": "execute_result"
    }
   ],
   "source": [
    "test_features.shape"
   ]
  },
  {
   "cell_type": "code",
   "execution_count": 73,
   "metadata": {},
   "outputs": [
    {
     "data": {
      "text/plain": [
       "(5229, 2)"
      ]
     },
     "execution_count": 73,
     "metadata": {},
     "output_type": "execute_result"
    }
   ],
   "source": [
    "test_target.shape"
   ]
  },
  {
   "cell_type": "markdown",
   "metadata": {},
   "source": [
    "Лучшая модель RandomForest проверим ее на тестовой выборке"
   ]
  },
  {
   "cell_type": "code",
   "execution_count": 74,
   "metadata": {},
   "outputs": [],
   "source": [
    "RF_predictions = best_RF_model.predict(test_features)"
   ]
  },
  {
   "cell_type": "code",
   "execution_count": 75,
   "metadata": {},
   "outputs": [
    {
     "data": {
      "text/plain": [
       "9.011992960311984"
      ]
     },
     "execution_count": 75,
     "metadata": {},
     "output_type": "execute_result"
    }
   ],
   "source": [
    "smape_calc(test_target,RF_predictions)"
   ]
  },
  {
   "cell_type": "markdown",
   "metadata": {},
   "source": [
    "Вывод: В ходе проекта по подготовке прототипа машинного обучения для компании \"Цифра\" была проделана следующая работа:\n",
    "- Подготовка данных\n",
    "- Изучение процессов очистки золота\n",
    "- Исследование данных и анализ данных\n",
    "- Создание функций для оценки эффективности модели\n",
    "- Оценка моделей методом кросс валидации и дальнейший выбор лучше модели.\n",
    "- Проверка модели на тестовой выборке.\n",
    "\n",
    "Наилучший результат показала модель типа \"Случайный лес\". Значение метрики sMAPE на валидационной выборке - 7.59 , на тестовой выборке 9.011. Параметры лучшей модели:\n",
    "- глубина дерева - 10\n",
    "- количество оценщиков - 10\n",
    "- максимальное количество признаков - 12\n",
    "- максимальное количество выборок - 800\n"
   ]
  }
 ],
 "metadata": {
  "kernelspec": {
   "display_name": "Python 3",
   "language": "python",
   "name": "python3"
  },
  "language_info": {
   "codemirror_mode": {
    "name": "ipython",
    "version": 3
   },
   "file_extension": ".py",
   "mimetype": "text/x-python",
   "name": "python",
   "nbconvert_exporter": "python",
   "pygments_lexer": "ipython3",
   "version": "3.8.3"
  },
  "toc": {
   "base_numbering": 1,
   "nav_menu": {},
   "number_sections": true,
   "sideBar": true,
   "skip_h1_title": true,
   "title_cell": "Оглавление",
   "title_sidebar": "Оглавление",
   "toc_cell": true,
   "toc_position": {
    "height": "calc(100% - 180px)",
    "left": "10px",
    "top": "150px",
    "width": "384px"
   },
   "toc_section_display": true,
   "toc_window_display": true
  },
  "toc-autonumbering": false
 },
 "nbformat": 4,
 "nbformat_minor": 4
}
